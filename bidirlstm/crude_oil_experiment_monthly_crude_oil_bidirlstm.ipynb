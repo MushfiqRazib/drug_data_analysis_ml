{
 "cells": [
  {
   "cell_type": "markdown",
   "metadata": {
    "colab_type": "text",
    "id": "CYLeBqvJAz2D"
   },
   "source": [
    "# Impots"
   ]
  },
  {
   "cell_type": "code",
   "execution_count": 1,
   "metadata": {
    "colab": {},
    "colab_type": "code",
    "id": "koCfKjKvAlTJ"
   },
   "outputs": [],
   "source": [
    "from __future__ import print_function, absolute_import, division\n",
    "\n",
    "# general imports for deep learning\n",
    "import tensorflow as tf\n",
    "from tensorflow.keras import layers\n",
    "import numpy as np\n",
    "from sklearn.preprocessing import StandardScaler\n",
    "from sklearn import preprocessing\n",
    "\n",
    "# data read\n",
    "import pandas as pd\n",
    "\n",
    "# plot\n",
    "import matplotlib.pyplot as plt\n",
    "from tensorflow.keras.utils import plot_model\n",
    "\n",
    "#tensorboard: currently some error\n",
    "#!pip install -U tensorboardcolab\n",
    "#from tensorboardcolab import *\n",
    "\n",
    "# json and pretty print\n",
    "import json\n",
    "import pprint\n",
    "\n",
    "# to persist the numpy arrays data\n",
    "import h5py\n",
    "\n",
    "# handle logging\n",
    "tf.logging.set_verbosity(tf.logging.INFO)\n",
    "\n",
    "# Calculating Mean Absolute Percentage Error of predictions\n",
    "def calc_mape(predicted_data, true_data):\\\n",
    "    return np.divide(np.sum(np.divide(np.absolute(predicted_data - true_data), true_data), 0), true_data.shape[0])\n",
    "\n",
    "def plot_prediction(original, predicted):\n",
    "    #fig = plt.figure(num=None, figsize=(8, 6), dpi=80, facecolor='w', edgecolor='k')\n",
    "    # Get subplots\n",
    "    f, (plt1, plt2, plt3) = plt.subplots(3)\n",
    "    # Get Daily errors\n",
    "    \n",
    "    a = original\n",
    "    b = predicted\n",
    "    if(len(original.shape) > 1):\n",
    "        a = original.reshape(original.shape[0]*original.shape[1])\n",
    "    if(len(predicted.shape) > 1):\n",
    "        b = predicted.reshape(predicted.shape[0]*predicted.shape[1])\n",
    "    \n",
    "    daily_errors = abs(a - b)\n",
    "    t = 7\n",
    "    weekly_errors = temp = [np.float(np.sum(daily_errors[i:i+t])/t) for i in range(0, len(daily_errors), t)]\n",
    "  \n",
    "    # Calculate R2 metric\n",
    "  \n",
    "    # FROM wikipedia: \n",
    "    # Values of R2 outside the range 0 to 1 can occur when the model fits the data worse than a horizontal hyperplane. \n",
    "    # This would occur when the wrong model was chosen.\n",
    "    m = np.mean(a)\n",
    "    ss_tot = np.sum(np.power((a - m), 2))\n",
    "    ss_res = np.sum(np.power((a - b), 2))\n",
    "    r_square = 1 - (ss_res / ss_tot)\n",
    "    r_square = \"{0:.4f}\".format(r_square)\n",
    "    mape = calc_mape(b, a)\n",
    "  \n",
    "    # Get weekly errors\n",
    "    # plot original vs predicted  \n",
    "    plt1.plot(original, color='black', label = 'Original data') \n",
    "    plt1.plot(predicted, color='blue', label = 'Predicted data')\n",
    "\n",
    "    # PLOT DAILY ERRORS\n",
    "    plt2.plot(daily_errors, color='red')\n",
    "    \n",
    "    # PLOT WEEKLY ERRORS\n",
    "    for i, e in enumerate(weekly_errors):\n",
    "        plt3.bar(x=i*7, height=e, width=5, color='red')\n",
    "\n",
    "    plt1.set_title('Actual and Predicted - R2: '+str(r_square) + ' - MAPE:'+str(mape))  \n",
    "    plt2.set_title('Daily Errors')\n",
    "    plt3.set_title('Weekly Errors')\n",
    "  \n",
    "    # IF YOU ARE USING COLAB, USE THIS:\n",
    "    plt.subplots_adjust(left=1, bottom=1, right=4, top=3, wspace=None, hspace=1)\n",
    "  \n",
    "    # IF YOU ARE USING YOUR LOCAL AND SHOWING THE RESULTS USE THE FOLLOWING:\n",
    "    # plt.subplots_adjust(left=0.05, bottom=0.05, right=0.90, top=0.90, wspace=None, hspace=0.4)\n",
    "    \n",
    "    plt.show()\n",
    "\n",
    "def plot_prediction1(original, predicted):\n",
    "  plt.style.use('seaborn-darkgrid')\n",
    "  \n",
    "  # Get subplots\n",
    "  f, (plt1, plt2, plt3) = plt.subplots(3)\n",
    "  \n",
    "  # Get Daily errors\n",
    "  a = original\n",
    "  b = predicted\n",
    "  if(len(original.shape) > 1):\n",
    "    a = original.reshape(original.shape[0]*original.shape[1])\n",
    "    \n",
    "  if(len(predicted.shape) > 1):\n",
    "    b = predicted.reshape(predicted.shape[0]*predicted.shape[1])\n",
    "    \n",
    "  daily_errors = abs(a - b)\n",
    "  \n",
    "  t = 7\n",
    "  weekly_errors = temp = [np.float(np.sum(daily_errors[i:i+t])/t) for i in range(0, len(daily_errors), t)]\n",
    "  \n",
    "  # Calculate R2 metric\n",
    "  \n",
    "  # FROM wikipedia: \n",
    "  # Values of R2 outside the range 0 to 1 can occur when the model fits the data worse than a horizontal hyperplane. \n",
    "  # This would occur when the wrong model was chosen.\n",
    "  m = np.mean(a)\n",
    "  ss_tot = np.sum(np.power((a - m), 2))\n",
    "  ss_res = np.sum(np.power((a - b), 2))\n",
    "  r_square = 1 - (ss_res / ss_tot)\n",
    "  r_square = \"{0:.4f}\".format(r_square)\n",
    "  \n",
    "  # Get weekly errors\n",
    "  # plot original vs predicted  \n",
    "  plt1.plot(original, \n",
    "           color='black', \n",
    "           label = 'Original data') \n",
    "  plt1.plot(predicted,\n",
    "           color='blue', \n",
    "           label = 'Predicted data')\n",
    "\n",
    "\n",
    "\n",
    "  # PLOT DAILY ERRORS\n",
    "  plt2.plot(daily_errors, color='red')\n",
    "\n",
    "    \n",
    "  # PLOT WEEKLY ERRORS\n",
    "  for i, e in enumerate(weekly_errors):\n",
    "    plt3.bar(x=i*7, height=e, width=5, color='red')\n",
    "\n",
    "  plt1.set_title('Actual and Predicted - R2: '+str(r_square))  \n",
    "  plt2.set_title('Daily Errors')\n",
    "  plt3.set_title('Weekly Errors')\n",
    "  \n",
    "  # IF YOU ARE USING COLAB, USE THIS:\n",
    "  plt.subplots_adjust(left=1, bottom=1, right=4, top=3, wspace=None, hspace=1)\n",
    "  \n",
    "  # IF YOU ARE USING YOUR LOCAL AND SHOWING THE RESULTS USE THE FOLLOWING:\n",
    "  # plt.subplots_adjust(left=0.05, bottom=0.05, right=0.90, top=0.90, wspace=None, hspace=0.4)\n",
    "  \n",
    "  plt.show()"
   ]
  },
  {
   "cell_type": "markdown",
   "metadata": {
    "colab_type": "text",
    "id": "XSDT5SUqERro"
   },
   "source": [
    "# Get data"
   ]
  },
  {
   "cell_type": "code",
   "execution_count": 2,
   "metadata": {
    "colab": {},
    "colab_type": "code",
    "id": "dFHLnO3UBKRd"
   },
   "outputs": [],
   "source": [
    "save_filename = 'models/'\n",
    "monthly_data_name = 'data/monthly_crude_oil_83_19.csv'\n",
    "weekly_data_name ='data/weekly_crude_oil_83_19.csv'\n",
    "column_names = ['Date','Price',\t'Open',\t'High', 'Low',\t'Vol.',\t'Change %']"
   ]
  },
  {
   "cell_type": "code",
   "execution_count": 3,
   "metadata": {
    "colab": {},
    "colab_type": "code",
    "id": "JdWw5LZaBc3y"
   },
   "outputs": [],
   "source": [
    "weekly_data = pd.read_csv(weekly_data_name)\n",
    "monthly_data = pd.read_csv(monthly_data_name)"
   ]
  },
  {
   "cell_type": "code",
   "execution_count": 4,
   "metadata": {
    "colab": {},
    "colab_type": "code",
    "id": "CMp6bjuxGA2N"
   },
   "outputs": [],
   "source": [
    "def getVolumeAsFloat(_lst):\n",
    "  l = len(_lst)\n",
    "  result = np.zeros(l)\n",
    "  for i in range(l):\n",
    "    vol = _lst[i]\n",
    "    if 'M' in vol:\n",
    "      _id = vol.index('M')\n",
    "      _mlt = 1000000\n",
    "    elif 'K' in vol:\n",
    "      _id = vol.index('K')\n",
    "      _mlt = 1000\n",
    "    else:\n",
    "      _id = -1\n",
    "\n",
    "    result[i] = float(vol[:_id]) * _mlt\n",
    "  return result"
   ]
  },
  {
   "cell_type": "code",
   "execution_count": 5,
   "metadata": {
    "colab": {},
    "colab_type": "code",
    "id": "pt-zFBWC3T0_"
   },
   "outputs": [],
   "source": [
    "# returns normalized dataset between a and b\n",
    "def minmax_norm(dataset, a, b):\n",
    "  # NORMALIZE DATASET\n",
    "  d = dataset\n",
    "  mi = np.min(dataset)\n",
    "  ma = np.max(dataset)\n",
    "\n",
    "  norm_dataset = ((b-a) * ((d - mi)/(ma - mi))) + a\n",
    "  return norm_dataset\n",
    "\n",
    "def minmax_denorm(old_data, val, a=-1, b=1):\n",
    "  mi = min(old_data)\n",
    "  ma = max(old_data)\n",
    "\n",
    "  return ((val - a) * (ma-mi) / (b-a)) + mi\n",
    "\n",
    "\n",
    "def get_test(X, percentage=0.9):\n",
    "    iXPercentage = int(len(X) * percentage) \n",
    "    X_train_val = X[0:iXPercentage]\n",
    "    X_test = X[iXPercentage:]\n",
    "    return X_train_val, X_test"
   ]
  },
  {
   "cell_type": "code",
   "execution_count": 6,
   "metadata": {
    "colab": {},
    "colab_type": "code",
    "id": "Q-bx16Y9rRIv"
   },
   "outputs": [],
   "source": [
    "def get_data_chunks(d_list, windows, quantity=False):\n",
    "  length = len(d_list[0])\n",
    "  step = 1\n",
    "  forecast = 1\n",
    "  \n",
    "  data_dict = {}\n",
    "  for window in windows:\n",
    "    X = []\n",
    "    Y = []\n",
    "    for i in range(0, length, step):\n",
    "      try:\n",
    "        # Get windowed data\n",
    "        windowed_features_list = []\n",
    "        for j in range(len(d_list)):\n",
    "          windowed_features_list.append(d_list[j][i:i+window])\n",
    "\n",
    "        # ALWAYS TAKE THE FIRST data \n",
    "        if quantity:\n",
    "          y_i = d_list[1][i + window + forecast - 1] # get volume important.\n",
    "        else:\n",
    "          y_i = d_list[0][i + window + forecast - 1] # get price\n",
    "        x_i = np.column_stack(tuple(windowed_features_list))\n",
    "      except Exception as e:\n",
    "        print(e)\n",
    "        break\n",
    "\n",
    "      X.append(x_i)\n",
    "      Y.append(y_i)\n",
    "    data_dict[window] = {'X': np.array(X), 'Y': np.array(Y)}\n",
    "    \n",
    "  return data_dict"
   ]
  },
  {
   "cell_type": "markdown",
   "metadata": {
    "colab_type": "text",
    "id": "wpxfsf59EMvA"
   },
   "source": [
    "# Monthly"
   ]
  },
  {
   "cell_type": "code",
   "execution_count": 7,
   "metadata": {
    "colab": {
     "base_uri": "https://localhost:8080/",
     "height": 197
    },
    "colab_type": "code",
    "id": "5rpL4gI0EOnS",
    "outputId": "88ee446f-0e75-45a8-b418-8d00b87298c5"
   },
   "outputs": [
    {
     "data": {
      "text/html": [
       "<div>\n",
       "<style scoped>\n",
       "    .dataframe tbody tr th:only-of-type {\n",
       "        vertical-align: middle;\n",
       "    }\n",
       "\n",
       "    .dataframe tbody tr th {\n",
       "        vertical-align: top;\n",
       "    }\n",
       "\n",
       "    .dataframe thead th {\n",
       "        text-align: right;\n",
       "    }\n",
       "</style>\n",
       "<table border=\"1\" class=\"dataframe\">\n",
       "  <thead>\n",
       "    <tr style=\"text-align: right;\">\n",
       "      <th></th>\n",
       "      <th>Date</th>\n",
       "      <th>Price</th>\n",
       "      <th>Open</th>\n",
       "      <th>High</th>\n",
       "      <th>Low</th>\n",
       "      <th>Vol.</th>\n",
       "      <th>Change %</th>\n",
       "    </tr>\n",
       "  </thead>\n",
       "  <tbody>\n",
       "    <tr>\n",
       "      <th>0</th>\n",
       "      <td>May 19</td>\n",
       "      <td>59.15</td>\n",
       "      <td>63.54</td>\n",
       "      <td>63.96</td>\n",
       "      <td>57.34</td>\n",
       "      <td>-</td>\n",
       "      <td>-7.45%</td>\n",
       "    </tr>\n",
       "    <tr>\n",
       "      <th>1</th>\n",
       "      <td>Apr 19</td>\n",
       "      <td>63.91</td>\n",
       "      <td>60.24</td>\n",
       "      <td>66.60</td>\n",
       "      <td>60.13</td>\n",
       "      <td>13.33M</td>\n",
       "      <td>6.27%</td>\n",
       "    </tr>\n",
       "    <tr>\n",
       "      <th>2</th>\n",
       "      <td>Mar 19</td>\n",
       "      <td>60.14</td>\n",
       "      <td>57.22</td>\n",
       "      <td>60.73</td>\n",
       "      <td>54.52</td>\n",
       "      <td>11.96M</td>\n",
       "      <td>5.10%</td>\n",
       "    </tr>\n",
       "    <tr>\n",
       "      <th>3</th>\n",
       "      <td>Feb 19</td>\n",
       "      <td>57.22</td>\n",
       "      <td>54.01</td>\n",
       "      <td>57.81</td>\n",
       "      <td>51.23</td>\n",
       "      <td>10.55M</td>\n",
       "      <td>6.38%</td>\n",
       "    </tr>\n",
       "    <tr>\n",
       "      <th>4</th>\n",
       "      <td>Jan 19</td>\n",
       "      <td>53.79</td>\n",
       "      <td>45.80</td>\n",
       "      <td>55.37</td>\n",
       "      <td>44.35</td>\n",
       "      <td>14.02M</td>\n",
       "      <td>18.45%</td>\n",
       "    </tr>\n",
       "  </tbody>\n",
       "</table>\n",
       "</div>"
      ],
      "text/plain": [
       "     Date  Price   Open   High    Low    Vol. Change %\n",
       "0  May 19  59.15  63.54  63.96  57.34       -   -7.45%\n",
       "1  Apr 19  63.91  60.24  66.60  60.13  13.33M    6.27%\n",
       "2  Mar 19  60.14  57.22  60.73  54.52  11.96M    5.10%\n",
       "3  Feb 19  57.22  54.01  57.81  51.23  10.55M    6.38%\n",
       "4  Jan 19  53.79  45.80  55.37  44.35  14.02M   18.45%"
      ]
     },
     "execution_count": 7,
     "metadata": {},
     "output_type": "execute_result"
    }
   ],
   "source": [
    "monthly_data.head()"
   ]
  },
  {
   "cell_type": "code",
   "execution_count": 8,
   "metadata": {
    "colab": {},
    "colab_type": "code",
    "id": "ZlYALAifDYUE"
   },
   "outputs": [],
   "source": [
    "monthly_prices = np.array(monthly_data[column_names[1]])[1:]\n",
    "monthly_volumes = np.array(monthly_data[column_names[5]])[1:]\n",
    "monthly_volumes = getVolumeAsFloat(monthly_volumes)\n",
    "\n",
    "# reverse it to get the ordered version from old date to new date\n",
    "monthly_prices = np.flip(monthly_prices)\n",
    "monthly_volumes = np.flip(monthly_volumes)"
   ]
  },
  {
   "cell_type": "code",
   "execution_count": 9,
   "metadata": {
    "colab": {},
    "colab_type": "code",
    "id": "fACcvFRmRuYQ"
   },
   "outputs": [],
   "source": [
    "# Extract Test\n",
    "monthly_prices, test_monthly_prices = get_test(monthly_prices)\n",
    "monthly_volumes, test_monthly_volumes = get_test(monthly_volumes)"
   ]
  },
  {
   "cell_type": "code",
   "execution_count": 10,
   "metadata": {
    "colab": {},
    "colab_type": "code",
    "id": "kJI0eI5oOyfR"
   },
   "outputs": [],
   "source": [
    "norm_monthly_prices = minmax_norm(monthly_prices, a=-1, b=1)\n",
    "norm_monthly_volumes = minmax_norm(monthly_volumes, a=-1, b=1)"
   ]
  },
  {
   "cell_type": "code",
   "execution_count": 11,
   "metadata": {
    "colab": {
     "base_uri": "https://localhost:8080/",
     "height": 70
    },
    "colab_type": "code",
    "id": "mZY61xUMIUKK",
    "outputId": "66653777-fcba-4e05-bd0c-b32d43bfc132"
   },
   "outputs": [
    {
     "name": "stdout",
     "output_type": "stream",
     "text": [
      "index 389 is out of bounds for axis 0 with size 389\n",
      "index 389 is out of bounds for axis 0 with size 389\n",
      "index 389 is out of bounds for axis 0 with size 389\n"
     ]
    }
   ],
   "source": [
    "#normalized d_list\n",
    "d_list = [norm_monthly_prices, norm_monthly_volumes]\n",
    "windows = [6,8,12]\n",
    "data_dict = get_data_chunks(d_list, windows)"
   ]
  },
  {
   "cell_type": "code",
   "execution_count": 12,
   "metadata": {
    "colab": {},
    "colab_type": "code",
    "id": "XGrEyfCxIU-6"
   },
   "outputs": [],
   "source": [
    "  def build_bidir_lstm_model(tensor_shape):\n",
    "    # L2 norm regularizer\n",
    "    regularizer = tf.keras.regularizers.l2(0.01)\n",
    "\n",
    "    # XAVIER INITIALIZER\n",
    "#    initializer = tf.keras.initializers.glorot_uniform()\n",
    "\n",
    "    model = tf.keras.Sequential()\n",
    "\n",
    "  # hyperbolic tangent is automatically seleceted as activation function\n",
    "    units = tensor_shape[0]\n",
    "    model.add(layers.Bidirectional(layers.LSTM(units, return_sequences=True), batch_input_shape=(None, tensor_shape[0], tensor_shape[1])))\n",
    "    #model.add(layers.LSTM(units, \n",
    "                          #batch_input_shape=(None, tensor_shape[0], tensor_shape[1]),\n",
    "                          #recurrent_regularizer=regularizer,\n",
    "                          #bias_regularizer=regularizer, \n",
    "                          #kernel_regularizer=regularizer\n",
    "                         #))\n",
    "\n",
    "\n",
    "    #model.add(layers.LSTM(units, return_sequences=True))\n",
    "    #model.add(layers.LSTM(units))\n",
    "    \n",
    "    model.add(layers.Dense(32,activation='relu'))\n",
    "    model.add(layers.Dense(32,activation='relu'))\n",
    "    model.add(layers.Flatten())\n",
    "    model.add(layers.Dense(1))\n",
    "    \n",
    "    return model"
   ]
  },
  {
   "cell_type": "code",
   "execution_count": 13,
   "metadata": {
    "colab": {},
    "colab_type": "code",
    "id": "Y9gwzLgoLIj1"
   },
   "outputs": [],
   "source": [
    "w = 6\n",
    "b = 64"
   ]
  },
  {
   "cell_type": "code",
   "execution_count": 14,
   "metadata": {
    "colab": {
     "base_uri": "https://localhost:8080/",
     "height": 90
    },
    "colab_type": "code",
    "id": "46LBKkGiJXIr",
    "outputId": "18bc6dac-6bcf-4fe9-82a0-f3784100bbf3"
   },
   "outputs": [],
   "source": [
    "model = build_bidir_lstm_model(tensor_shape=(w, 2))"
   ]
  },
  {
   "cell_type": "code",
   "execution_count": 15,
   "metadata": {
    "colab": {
     "base_uri": "https://localhost:8080/",
     "height": 283
    },
    "colab_type": "code",
    "id": "BesJ4ACNLPV9",
    "outputId": "462ae732-a396-4edb-f411-981825ad8932"
   },
   "outputs": [
    {
     "name": "stdout",
     "output_type": "stream",
     "text": [
      "_________________________________________________________________\n",
      "Layer (type)                 Output Shape              Param #   \n",
      "=================================================================\n",
      "bidirectional (Bidirectional (None, 6, 12)             432       \n",
      "_________________________________________________________________\n",
      "dense (Dense)                (None, 6, 32)             416       \n",
      "_________________________________________________________________\n",
      "dense_1 (Dense)              (None, 6, 32)             1056      \n",
      "_________________________________________________________________\n",
      "flatten (Flatten)            (None, 192)               0         \n",
      "_________________________________________________________________\n",
      "dense_2 (Dense)              (None, 1)                 193       \n",
      "=================================================================\n",
      "Total params: 2,097\n",
      "Trainable params: 2,097\n",
      "Non-trainable params: 0\n",
      "_________________________________________________________________\n"
     ]
    }
   ],
   "source": [
    "model.summary()"
   ]
  },
  {
   "cell_type": "code",
   "execution_count": 16,
   "metadata": {
    "colab": {
     "base_uri": "https://localhost:8080/",
     "height": 52
    },
    "colab_type": "code",
    "id": "QNTYdPfELRFZ",
    "outputId": "72905468-e212-4be5-988c-b50ae8c25bc7"
   },
   "outputs": [
    {
     "name": "stdout",
     "output_type": "stream",
     "text": [
      "save_filename: models/\n",
      "Model will be saved at: models/crude_oil_monthly_bidirlstm_model_w6_b64\n"
     ]
    }
   ],
   "source": [
    "print('save_filename: '+ save_filename)\n",
    "learning_rate=0.001\n",
    "epochs=10000\n",
    "verbose=1\n",
    "save_filename = 'models/'\n",
    "model_save_name = save_filename + 'crude_oil_monthly_bidirlstm_model_w6_b64'\n",
    "    \n",
    "opt_1 = tf.keras.optimizers.Adam(learning_rate)\n",
    "    \n",
    "loss_func = tf.keras.losses.mean_squared_error\n",
    "\n",
    "metrics = []\n",
    "metrics.append(tf.keras.metrics.mean_absolute_error)\n",
    "metrics.append(tf.keras.metrics.mean_squared_error)\n",
    "metrics.append(tf.keras.metrics.mean_absolute_percentage_error)\n",
    "\n",
    "print(\"Model will be saved at: \"+model_save_name)\n",
    "model.compile(optimizer=opt_1, \n",
    "                  loss=loss_func, \n",
    "                  metrics=metrics)\n",
    "    \n",
    "callbacks = []\n",
    "cp = tf.keras.callbacks.ModelCheckpoint(filepath=model_save_name, verbose=1, save_best_only=True)\n",
    "early_stop = tf.keras.callbacks.EarlyStopping(monitor='val_loss', patience=20)\n",
    "    \n",
    "callbacks.append(cp)\n",
    "callbacks.append(early_stop)    "
   ]
  },
  {
   "cell_type": "code",
   "execution_count": 17,
   "metadata": {
    "colab": {},
    "colab_type": "code",
    "id": "juxCQZt2LoK5"
   },
   "outputs": [],
   "source": [
    "  def get_train_validation(X, y, percentage=0.8):\n",
    "    iXPercentage = int(len(X) * percentage) \n",
    "    iYPercentage = int(len(y) * percentage)\n",
    "    X_train = X[0:iXPercentage]\n",
    "    Y_train = y[0:iYPercentage]\n",
    "    \n",
    "    #X_train, Y_train = shuffle_in_unison(X_train, Y_train)\n",
    "\n",
    "    X_val = X[iXPercentage:]\n",
    "    Y_val = y[iYPercentage:]\n",
    "    return X_train, X_val, Y_train, Y_val"
   ]
  },
  {
   "cell_type": "code",
   "execution_count": 18,
   "metadata": {
    "colab": {},
    "colab_type": "code",
    "id": "lxk8KXi4LrfP"
   },
   "outputs": [],
   "source": [
    "nX = data_dict[w]['X']\n",
    "nY =data_dict[w]['Y']\n",
    "X_train, X_val, Y_train, Y_val = get_train_validation(nX, nY)"
   ]
  },
  {
   "cell_type": "code",
   "execution_count": 19,
   "metadata": {
    "colab": {
     "base_uri": "https://localhost:8080/",
     "height": 52
    },
    "colab_type": "code",
    "id": "SI8zj-3qL9vV",
    "outputId": "c72298e5-4988-4a3f-9926-f4b57cd7b1af"
   },
   "outputs": [
    {
     "name": "stdout",
     "output_type": "stream",
     "text": [
      "X_train: (306, 6, 2)\n",
      "X_val: (77, 6, 2)\n"
     ]
    }
   ],
   "source": [
    "print('X_train: '+str(X_train.shape))\n",
    "print('X_val: '+str(X_val.shape))\n",
    "#print('X_test: '+str(X_test.shape))"
   ]
  },
  {
   "cell_type": "code",
   "execution_count": 20,
   "metadata": {
    "colab": {
     "base_uri": "https://localhost:8080/",
     "height": 301
    },
    "colab_type": "code",
    "id": "Tg4UdlzINAOD",
    "outputId": "ead9e007-65dc-43be-f4f2-de9e11aa4c11"
   },
   "outputs": [
    {
     "name": "stdout",
     "output_type": "stream",
     "text": [
      "[[-0.68806915 -0.99951514]\n",
      " [-0.69393425 -0.99995979]\n",
      " [-0.67649329 -0.99985099]\n",
      " [-0.66692391 -0.99981552]\n",
      " [-0.67325205 -1.        ]\n",
      " [-0.69223646 -0.99926207]]\n",
      "-0.6920821114369502\n",
      "****************************************************************************************************\n",
      "[[-0.69393425 -0.99995979]\n",
      " [-0.67649329 -0.99985099]\n",
      " [-0.66692391 -0.99981552]\n",
      " [-0.67325205 -1.        ]\n",
      " [-0.69223646 -0.99926207]\n",
      " [-0.69208211 -0.9973321 ]]\n",
      "-0.7096774193548387\n",
      "****************************************************************************************************\n"
     ]
    }
   ],
   "source": [
    "print(X_train[0])\n",
    "print(Y_train[0])\n",
    "print('*'*100)\n",
    "print(X_train[1])\n",
    "print(Y_train[1])\n",
    "print('*'*100)"
   ]
  },
  {
   "cell_type": "code",
   "execution_count": 21,
   "metadata": {
    "colab": {},
    "colab_type": "code",
    "id": "hSjh00JwMJCG"
   },
   "outputs": [
    {
     "name": "stdout",
     "output_type": "stream",
     "text": [
      "Train on 306 samples, validate on 77 samples\n",
      "Epoch 1/10000\n",
      "192/306 [=================>............] - ETA: 2s - loss: 0.5331 - mean_absolute_error: 0.6867 - mean_squared_error: 0.5331 - mean_absolute_percentage_error: 97.1492  \n",
      "Epoch 00001: val_loss improved from inf to 0.07375, saving model to models/crude_oil_monthly_bidirlstm_model_w6_b64\n",
      "306/306 [==============================] - 5s 17ms/step - loss: 0.5186 - mean_absolute_error: 0.6834 - mean_squared_error: 0.5186 - mean_absolute_percentage_error: 94.9478 - val_loss: 0.0737 - val_mean_absolute_error: 0.2328 - val_mean_squared_error: 0.0737 - val_mean_absolute_percentage_error: 103.9248\n",
      "Epoch 2/10000\n",
      "192/306 [=================>............] - ETA: 0s - loss: 0.4109 - mean_absolute_error: 0.6079 - mean_squared_error: 0.4109 - mean_absolute_percentage_error: 81.0829\n",
      "Epoch 00002: val_loss improved from 0.07375 to 0.07111, saving model to models/crude_oil_monthly_bidirlstm_model_w6_b64\n",
      "306/306 [==============================] - 0s 631us/step - loss: 0.3801 - mean_absolute_error: 0.5828 - mean_squared_error: 0.3801 - mean_absolute_percentage_error: 82.0100 - val_loss: 0.0711 - val_mean_absolute_error: 0.2267 - val_mean_squared_error: 0.0711 - val_mean_absolute_percentage_error: 104.5509\n",
      "Epoch 3/10000\n",
      "192/306 [=================>............] - ETA: 0s - loss: 0.2780 - mean_absolute_error: 0.4965 - mean_squared_error: 0.2780 - mean_absolute_percentage_error: 71.8971\n",
      "Epoch 00003: val_loss improved from 0.07111 to 0.06905, saving model to models/crude_oil_monthly_bidirlstm_model_w6_b64\n",
      "306/306 [==============================] - 0s 667us/step - loss: 0.2628 - mean_absolute_error: 0.4831 - mean_squared_error: 0.2628 - mean_absolute_percentage_error: 72.1510 - val_loss: 0.0690 - val_mean_absolute_error: 0.2219 - val_mean_squared_error: 0.0690 - val_mean_absolute_percentage_error: 106.9563\n",
      "Epoch 4/10000\n",
      "256/306 [========================>.....] - ETA: 0s - loss: 0.1655 - mean_absolute_error: 0.3809 - mean_squared_error: 0.1655 - mean_absolute_percentage_error: 64.7352\n",
      "Epoch 00004: val_loss improved from 0.06905 to 0.06696, saving model to models/crude_oil_monthly_bidirlstm_model_w6_b64\n",
      "306/306 [==============================] - 0s 619us/step - loss: 0.1599 - mean_absolute_error: 0.3734 - mean_squared_error: 0.1599 - mean_absolute_percentage_error: 62.3252 - val_loss: 0.0670 - val_mean_absolute_error: 0.2184 - val_mean_squared_error: 0.0670 - val_mean_absolute_percentage_error: 112.6534\n",
      "Epoch 5/10000\n",
      "256/306 [========================>.....] - ETA: 0s - loss: 0.0838 - mean_absolute_error: 0.2665 - mean_squared_error: 0.0838 - mean_absolute_percentage_error: 59.0777\n",
      "Epoch 00005: val_loss improved from 0.06696 to 0.06442, saving model to models/crude_oil_monthly_bidirlstm_model_w6_b64\n",
      "306/306 [==============================] - 0s 623us/step - loss: 0.0794 - mean_absolute_error: 0.2578 - mean_squared_error: 0.0794 - mean_absolute_percentage_error: 55.7263 - val_loss: 0.0644 - val_mean_absolute_error: 0.2131 - val_mean_squared_error: 0.0644 - val_mean_absolute_percentage_error: 121.7579\n",
      "Epoch 6/10000\n",
      "128/306 [===========>..................] - ETA: 0s - loss: 0.0340 - mean_absolute_error: 0.1636 - mean_squared_error: 0.0340 - mean_absolute_percentage_error: 35.7617\n",
      "Epoch 00006: val_loss improved from 0.06442 to 0.06160, saving model to models/crude_oil_monthly_bidirlstm_model_w6_b64\n",
      "306/306 [==============================] - 0s 896us/step - loss: 0.0334 - mean_absolute_error: 0.1500 - mean_squared_error: 0.0334 - mean_absolute_percentage_error: 52.6692 - val_loss: 0.0616 - val_mean_absolute_error: 0.2057 - val_mean_squared_error: 0.0616 - val_mean_absolute_percentage_error: 136.8653\n",
      "Epoch 7/10000\n",
      "256/306 [========================>.....] - ETA: 0s - loss: 0.0250 - mean_absolute_error: 0.1023 - mean_squared_error: 0.0250 - mean_absolute_percentage_error: 47.0578\n",
      "Epoch 00007: val_loss improved from 0.06160 to 0.06059, saving model to models/crude_oil_monthly_bidirlstm_model_w6_b64\n",
      "306/306 [==============================] - 0s 606us/step - loss: 0.0255 - mean_absolute_error: 0.1048 - mean_squared_error: 0.0255 - mean_absolute_percentage_error: 56.0570 - val_loss: 0.0606 - val_mean_absolute_error: 0.2001 - val_mean_squared_error: 0.0606 - val_mean_absolute_percentage_error: 155.6892\n",
      "Epoch 8/10000\n",
      "192/306 [=================>............] - ETA: 0s - loss: 0.0328 - mean_absolute_error: 0.1278 - mean_squared_error: 0.0328 - mean_absolute_percentage_error: 74.2072\n",
      "Epoch 00008: val_loss did not improve from 0.06059\n",
      "306/306 [==============================] - 0s 608us/step - loss: 0.0313 - mean_absolute_error: 0.1286 - mean_squared_error: 0.0313 - mean_absolute_percentage_error: 62.1054 - val_loss: 0.0616 - val_mean_absolute_error: 0.1992 - val_mean_squared_error: 0.0616 - val_mean_absolute_percentage_error: 176.6410\n",
      "Epoch 9/10000\n",
      "192/306 [=================>............] - ETA: 0s - loss: 0.0285 - mean_absolute_error: 0.1241 - mean_squared_error: 0.0285 - mean_absolute_percentage_error: 42.1477\n",
      "Epoch 00009: val_loss did not improve from 0.06059\n",
      "306/306 [==============================] - 0s 594us/step - loss: 0.0286 - mean_absolute_error: 0.1202 - mean_squared_error: 0.0286 - mean_absolute_percentage_error: 58.4421 - val_loss: 0.0651 - val_mean_absolute_error: 0.2013 - val_mean_squared_error: 0.0651 - val_mean_absolute_percentage_error: 201.3990\n",
      "Epoch 10/10000\n",
      "256/306 [========================>.....] - ETA: 0s - loss: 0.0243 - mean_absolute_error: 0.0981 - mean_squared_error: 0.0243 - mean_absolute_percentage_error: 57.7154 \n",
      "Epoch 00010: val_loss did not improve from 0.06059\n",
      "306/306 [==============================] - 0s 440us/step - loss: 0.0217 - mean_absolute_error: 0.0926 - mean_squared_error: 0.0217 - mean_absolute_percentage_error: 51.0060 - val_loss: 0.0711 - val_mean_absolute_error: 0.2063 - val_mean_squared_error: 0.0711 - val_mean_absolute_percentage_error: 225.9267\n",
      "Epoch 11/10000\n",
      "256/306 [========================>.....] - ETA: 0s - loss: 0.0195 - mean_absolute_error: 0.0948 - mean_squared_error: 0.0195 - mean_absolute_percentage_error: 47.4397\n",
      "Epoch 00011: val_loss did not improve from 0.06059\n",
      "306/306 [==============================] - 0s 447us/step - loss: 0.0196 - mean_absolute_error: 0.0971 - mean_squared_error: 0.0196 - mean_absolute_percentage_error: 45.1619 - val_loss: 0.0756 - val_mean_absolute_error: 0.2118 - val_mean_squared_error: 0.0756 - val_mean_absolute_percentage_error: 241.4296\n",
      "Epoch 12/10000\n",
      "256/306 [========================>.....] - ETA: 0s - loss: 0.0204 - mean_absolute_error: 0.1050 - mean_squared_error: 0.0204 - mean_absolute_percentage_error: 40.1651\n",
      "Epoch 00012: val_loss did not improve from 0.06059\n",
      "306/306 [==============================] - 0s 440us/step - loss: 0.0201 - mean_absolute_error: 0.1039 - mean_squared_error: 0.0201 - mean_absolute_percentage_error: 42.4014 - val_loss: 0.0747 - val_mean_absolute_error: 0.2107 - val_mean_squared_error: 0.0747 - val_mean_absolute_percentage_error: 241.3493\n",
      "Epoch 13/10000\n",
      "256/306 [========================>.....] - ETA: 0s - loss: 0.0190 - mean_absolute_error: 0.0990 - mean_squared_error: 0.0190 - mean_absolute_percentage_error: 42.1850\n",
      "Epoch 00013: val_loss did not improve from 0.06059\n",
      "306/306 [==============================] - 0s 463us/step - loss: 0.0187 - mean_absolute_error: 0.0977 - mean_squared_error: 0.0187 - mean_absolute_percentage_error: 41.2773 - val_loss: 0.0725 - val_mean_absolute_error: 0.2079 - val_mean_squared_error: 0.0725 - val_mean_absolute_percentage_error: 237.2508\n",
      "Epoch 14/10000\n",
      "256/306 [========================>.....] - ETA: 0s - loss: 0.0173 - mean_absolute_error: 0.0878 - mean_squared_error: 0.0173 - mean_absolute_percentage_error: 44.5113\n",
      "Epoch 00014: val_loss did not improve from 0.06059\n",
      "306/306 [==============================] - 0s 466us/step - loss: 0.0169 - mean_absolute_error: 0.0865 - mean_squared_error: 0.0169 - mean_absolute_percentage_error: 40.3749 - val_loss: 0.0724 - val_mean_absolute_error: 0.2077 - val_mean_squared_error: 0.0724 - val_mean_absolute_percentage_error: 239.3935\n",
      "Epoch 15/10000\n",
      "192/306 [=================>............] - ETA: 0s - loss: 0.0166 - mean_absolute_error: 0.0782 - mean_squared_error: 0.0166 - mean_absolute_percentage_error: 49.1583\n",
      "Epoch 00015: val_loss did not improve from 0.06059\n",
      "306/306 [==============================] - 0s 836us/step - loss: 0.0160 - mean_absolute_error: 0.0806 - mean_squared_error: 0.0160 - mean_absolute_percentage_error: 39.4642 - val_loss: 0.0715 - val_mean_absolute_error: 0.2066 - val_mean_squared_error: 0.0715 - val_mean_absolute_percentage_error: 239.2262\n",
      "Epoch 16/10000\n",
      "192/306 [=================>............] - ETA: 0s - loss: 0.0188 - mean_absolute_error: 0.0883 - mean_squared_error: 0.0188 - mean_absolute_percentage_error: 41.1243\n",
      "Epoch 00016: val_loss did not improve from 0.06059\n",
      "306/306 [==============================] - 0s 544us/step - loss: 0.0154 - mean_absolute_error: 0.0798 - mean_squared_error: 0.0154 - mean_absolute_percentage_error: 38.4140 - val_loss: 0.0704 - val_mean_absolute_error: 0.2055 - val_mean_squared_error: 0.0704 - val_mean_absolute_percentage_error: 238.9485\n",
      "Epoch 17/10000\n",
      "256/306 [========================>.....] - ETA: 0s - loss: 0.0152 - mean_absolute_error: 0.0802 - mean_squared_error: 0.0152 - mean_absolute_percentage_error: 41.2338\n",
      "Epoch 00017: val_loss did not improve from 0.06059\n",
      "306/306 [==============================] - 0s 462us/step - loss: 0.0147 - mean_absolute_error: 0.0779 - mean_squared_error: 0.0147 - mean_absolute_percentage_error: 36.9683 - val_loss: 0.0697 - val_mean_absolute_error: 0.2047 - val_mean_squared_error: 0.0697 - val_mean_absolute_percentage_error: 239.2102\n",
      "Epoch 18/10000\n",
      "256/306 [========================>.....] - ETA: 0s - loss: 0.0138 - mean_absolute_error: 0.0762 - mean_squared_error: 0.0138 - mean_absolute_percentage_error: 38.4844\n",
      "Epoch 00018: val_loss did not improve from 0.06059\n",
      "306/306 [==============================] - 0s 443us/step - loss: 0.0140 - mean_absolute_error: 0.0755 - mean_squared_error: 0.0140 - mean_absolute_percentage_error: 35.8500 - val_loss: 0.0666 - val_mean_absolute_error: 0.2029 - val_mean_squared_error: 0.0666 - val_mean_absolute_percentage_error: 231.9454\n",
      "Epoch 19/10000\n",
      "256/306 [========================>.....] - ETA: 0s - loss: 0.0149 - mean_absolute_error: 0.0782 - mean_squared_error: 0.0149 - mean_absolute_percentage_error: 39.6446\n",
      "Epoch 00019: val_loss did not improve from 0.06059\n",
      "306/306 [==============================] - 0s 453us/step - loss: 0.0133 - mean_absolute_error: 0.0737 - mean_squared_error: 0.0133 - mean_absolute_percentage_error: 34.4465 - val_loss: 0.0660 - val_mean_absolute_error: 0.2027 - val_mean_squared_error: 0.0660 - val_mean_absolute_percentage_error: 233.1268\n",
      "Epoch 20/10000\n",
      "256/306 [========================>.....] - ETA: 0s - loss: 0.0114 - mean_absolute_error: 0.0695 - mean_squared_error: 0.0114 - mean_absolute_percentage_error: 35.6285\n",
      "Epoch 00020: val_loss did not improve from 0.06059\n",
      "306/306 [==============================] - 0s 425us/step - loss: 0.0126 - mean_absolute_error: 0.0713 - mean_squared_error: 0.0126 - mean_absolute_percentage_error: 33.2337 - val_loss: 0.0673 - val_mean_absolute_error: 0.2035 - val_mean_squared_error: 0.0673 - val_mean_absolute_percentage_error: 240.5869\n",
      "Epoch 21/10000\n",
      "192/306 [=================>............] - ETA: 0s - loss: 0.0110 - mean_absolute_error: 0.0675 - mean_squared_error: 0.0110 - mean_absolute_percentage_error: 39.5133\n",
      "Epoch 00021: val_loss did not improve from 0.06059\n",
      "306/306 [==============================] - 0s 476us/step - loss: 0.0120 - mean_absolute_error: 0.0691 - mean_squared_error: 0.0120 - mean_absolute_percentage_error: 31.9781 - val_loss: 0.0648 - val_mean_absolute_error: 0.2024 - val_mean_squared_error: 0.0648 - val_mean_absolute_percentage_error: 234.2942\n",
      "Epoch 22/10000\n",
      "256/306 [========================>.....] - ETA: 0s - loss: 0.0113 - mean_absolute_error: 0.0666 - mean_squared_error: 0.0113 - mean_absolute_percentage_error: 30.2466\n",
      "Epoch 00022: val_loss did not improve from 0.06059\n",
      "306/306 [==============================] - 0s 440us/step - loss: 0.0113 - mean_absolute_error: 0.0675 - mean_squared_error: 0.0113 - mean_absolute_percentage_error: 30.7827 - val_loss: 0.0655 - val_mean_absolute_error: 0.2026 - val_mean_squared_error: 0.0655 - val_mean_absolute_percentage_error: 240.4133\n",
      "Epoch 23/10000\n",
      "192/306 [=================>............] - ETA: 0s - loss: 0.0129 - mean_absolute_error: 0.0715 - mean_squared_error: 0.0129 - mean_absolute_percentage_error: 35.1813\n",
      "Epoch 00023: val_loss did not improve from 0.06059\n",
      "306/306 [==============================] - 0s 499us/step - loss: 0.0107 - mean_absolute_error: 0.0656 - mean_squared_error: 0.0107 - mean_absolute_percentage_error: 29.8652 - val_loss: 0.0655 - val_mean_absolute_error: 0.2025 - val_mean_squared_error: 0.0655 - val_mean_absolute_percentage_error: 243.6800\n",
      "Epoch 24/10000\n",
      "256/306 [========================>.....] - ETA: 0s - loss: 0.0106 - mean_absolute_error: 0.0644 - mean_squared_error: 0.0106 - mean_absolute_percentage_error: 28.5586\n",
      "Epoch 00024: val_loss did not improve from 0.06059\n",
      "306/306 [==============================] - 0s 443us/step - loss: 0.0100 - mean_absolute_error: 0.0627 - mean_squared_error: 0.0100 - mean_absolute_percentage_error: 28.7096 - val_loss: 0.0659 - val_mean_absolute_error: 0.2027 - val_mean_squared_error: 0.0659 - val_mean_absolute_percentage_error: 247.9824\n",
      "Epoch 25/10000\n",
      "256/306 [========================>.....] - ETA: 0s - loss: 0.0085 - mean_absolute_error: 0.0596 - mean_squared_error: 0.0085 - mean_absolute_percentage_error: 30.3026\n",
      "Epoch 00025: val_loss did not improve from 0.06059\n",
      "306/306 [==============================] - 0s 453us/step - loss: 0.0095 - mean_absolute_error: 0.0608 - mean_squared_error: 0.0095 - mean_absolute_percentage_error: 27.6507 - val_loss: 0.0668 - val_mean_absolute_error: 0.2033 - val_mean_squared_error: 0.0668 - val_mean_absolute_percentage_error: 253.7868\n",
      "Epoch 26/10000\n",
      "256/306 [========================>.....] - ETA: 0s - loss: 0.0086 - mean_absolute_error: 0.0589 - mean_squared_error: 0.0086 - mean_absolute_percentage_error: 27.2193\n",
      "Epoch 00026: val_loss did not improve from 0.06059\n",
      "306/306 [==============================] - 0s 450us/step - loss: 0.0091 - mean_absolute_error: 0.0593 - mean_squared_error: 0.0091 - mean_absolute_percentage_error: 26.8860 - val_loss: 0.0671 - val_mean_absolute_error: 0.2034 - val_mean_squared_error: 0.0671 - val_mean_absolute_percentage_error: 258.4728\n",
      "Epoch 27/10000\n",
      "192/306 [=================>............] - ETA: 0s - loss: 0.0073 - mean_absolute_error: 0.0540 - mean_squared_error: 0.0073 - mean_absolute_percentage_error: 26.8553\n",
      "Epoch 00027: val_loss did not improve from 0.06059\n",
      "306/306 [==============================] - 0s 896us/step - loss: 0.0087 - mean_absolute_error: 0.0574 - mean_squared_error: 0.0087 - mean_absolute_percentage_error: 25.6611 - val_loss: 0.0617 - val_mean_absolute_error: 0.2005 - val_mean_squared_error: 0.0617 - val_mean_absolute_percentage_error: 239.0499\n"
     ]
    }
   ],
   "source": [
    "history = model.fit(X_train, Y_train, \n",
    "                    epochs = epochs,  batch_size = b, \n",
    "                    verbose=verbose, validation_data=(X_val, Y_val), validation_split=0.8, callbacks=callbacks)"
   ]
  },
  {
   "cell_type": "code",
   "execution_count": 22,
   "metadata": {
    "colab": {
     "base_uri": "https://localhost:8080/",
     "height": 52
    },
    "colab_type": "code",
    "id": "KKlHgsmlMV3V",
    "outputId": "c7b17c36-7c6d-4a61-e91c-c13d787a6239"
   },
   "outputs": [
    {
     "name": "stdout",
     "output_type": "stream",
     "text": [
      "77/77 [==============================] - 0s 4ms/step\n"
     ]
    },
    {
     "data": {
      "text/plain": [
       "[0.06166390377979774,\n",
       " 0.20053885741667313,\n",
       " 0.06166390377979774,\n",
       " 239.0498952494039]"
      ]
     },
     "execution_count": 22,
     "metadata": {},
     "output_type": "execute_result"
    }
   ],
   "source": [
    "model.evaluate(X_val, Y_val)"
   ]
  },
  {
   "cell_type": "code",
   "execution_count": 23,
   "metadata": {
    "colab": {
     "base_uri": "https://localhost:8080/",
     "height": 34
    },
    "colab_type": "code",
    "id": "N_AugGryMext",
    "outputId": "48a1cad6-3f92-44a7-c461-75254d9aa747"
   },
   "outputs": [
    {
     "data": {
      "text/plain": [
       "array([[-0.29484406]], dtype=float32)"
      ]
     },
     "execution_count": 23,
     "metadata": {},
     "output_type": "execute_result"
    }
   ],
   "source": [
    "i = 0\n",
    "t = X_val[i].reshape(1, X_val[i].shape[0], X_val[i].shape[1])\n",
    "model.predict(t)"
   ]
  },
  {
   "cell_type": "code",
   "execution_count": 24,
   "metadata": {
    "colab": {
     "base_uri": "https://localhost:8080/",
     "height": 640
    },
    "colab_type": "code",
    "id": "Ao9EZU3AMg0t",
    "outputId": "4fc95955-6dfc-41ab-a0a2-63c6784252cb"
   },
   "outputs": [
    {
     "data": {
      "image/png": "[encoded data removed]",
      "text/plain": [
       "<Figure size 432x288 with 3 Axes>"
      ]
     },
     "metadata": {
      "needs_background": "light"
     },
     "output_type": "display_data"
    }
   ],
   "source": [
    "plot_prediction(Y_val, model.predict(X_val))"
   ]
  },
  {
   "cell_type": "markdown",
   "metadata": {
    "colab_type": "text",
    "id": "_-c1zyNDQJoh"
   },
   "source": [
    "## Test"
   ]
  },
  {
   "cell_type": "code",
   "execution_count": 25,
   "metadata": {
    "colab": {},
    "colab_type": "code",
    "id": "6bcH1-RCQJHx"
   },
   "outputs": [],
   "source": [
    "norm_test_monthly_prices = minmax_norm(test_monthly_prices, a=-1, b=1)\n",
    "norm_test_monthly_volumes = minmax_norm(test_monthly_volumes, a=-1, b=1)"
   ]
  },
  {
   "cell_type": "markdown",
   "metadata": {
    "colab_type": "text",
    "id": "P46hDnXWUK7I"
   },
   "source": [
    "### NOT normalized"
   ]
  },
  {
   "cell_type": "code",
   "execution_count": 26,
   "metadata": {
    "colab": {
     "base_uri": "https://localhost:8080/",
     "height": 70
    },
    "colab_type": "code",
    "id": "JfZOHudmUJAB",
    "outputId": "109064f5-1a6f-4685-f74f-b07c4bb44894"
   },
   "outputs": [
    {
     "name": "stdout",
     "output_type": "stream",
     "text": [
      "index 44 is out of bounds for axis 0 with size 44\n",
      "index 44 is out of bounds for axis 0 with size 44\n",
      "index 44 is out of bounds for axis 0 with size 44\n"
     ]
    }
   ],
   "source": [
    "#normalized d_list\n",
    "d_list = [test_monthly_prices, test_monthly_volumes]\n",
    "windows = [6,8,12]\n",
    "test_data_dict = get_data_chunks(d_list, windows)"
   ]
  },
  {
   "cell_type": "markdown",
   "metadata": {
    "colab_type": "text",
    "id": "8_2vYH3CUNJF"
   },
   "source": [
    "### Normalized"
   ]
  },
  {
   "cell_type": "code",
   "execution_count": 27,
   "metadata": {
    "colab": {
     "base_uri": "https://localhost:8080/",
     "height": 70
    },
    "colab_type": "code",
    "id": "6g7uzFEzQFHP",
    "outputId": "b1fa5dbf-c84a-408a-97f5-73dfaa146c9a"
   },
   "outputs": [
    {
     "name": "stdout",
     "output_type": "stream",
     "text": [
      "index 44 is out of bounds for axis 0 with size 44\n",
      "index 44 is out of bounds for axis 0 with size 44\n",
      "index 44 is out of bounds for axis 0 with size 44\n"
     ]
    }
   ],
   "source": [
    "#normalized d_list\n",
    "d_list = [norm_test_monthly_prices, norm_test_monthly_volumes]\n",
    "windows = [6,8,12]\n",
    "norm_test_data_dict = get_data_chunks(d_list, windows)"
   ]
  },
  {
   "cell_type": "markdown",
   "metadata": {
    "colab_type": "text",
    "id": "vIqx-TG8UP38"
   },
   "source": [
    "### result"
   ]
  },
  {
   "cell_type": "code",
   "execution_count": 28,
   "metadata": {
    "colab": {},
    "colab_type": "code",
    "id": "JFj5Lfx6TavK"
   },
   "outputs": [],
   "source": [
    "X_test = norm_test_data_dict[w]['X']\n",
    "#Y_test = test_data_dict[w]['Y']\n",
    "not_norm_true_values = test_data_dict[w]['Y']"
   ]
  },
  {
   "cell_type": "code",
   "execution_count": 29,
   "metadata": {
    "colab": {
     "base_uri": "https://localhost:8080/",
     "height": 640
    },
    "colab_type": "code",
    "id": "iegGwGjcTfY5",
    "outputId": "70415406-0459-4413-d5d3-4efe672c60b3"
   },
   "outputs": [
    {
     "data": {
      "image/png": "[encoded data removed]",
      "text/plain": [
       "<Figure size 432x288 with 3 Axes>"
      ]
     },
     "metadata": {
      "needs_background": "light"
     },
     "output_type": "display_data"
    }
   ],
   "source": [
    "pred_y = model.predict(X_test)\n",
    "pred_yy = minmax_denorm(test_monthly_prices, pred_y, a=-1, b=1)\n",
    "plot_prediction(not_norm_true_values, pred_yy)"
   ]
  },
  {
   "cell_type": "code",
   "execution_count": null,
   "metadata": {
    "colab": {},
    "colab_type": "code",
    "id": "hPoagLXAfZmI"
   },
   "outputs": [],
   "source": []
  }
 ],
 "metadata": {
  "accelerator": "TPU",
  "colab": {
   "collapsed_sections": [],
   "name": "monthly_crude_oil.ipynb",
   "provenance": [],
   "version": "0.3.2"
  },
  "kernelspec": {
   "display_name": "Python 3",
   "language": "python",
   "name": "python3"
  },
  "language_info": {
   "codemirror_mode": {
    "name": "ipython",
    "version": 3
   },
   "file_extension": ".py",
   "mimetype": "text/x-python",
   "name": "python",
   "nbconvert_exporter": "python",
   "pygments_lexer": "ipython3",
   "version": "3.6.5"
  }
 },
 "nbformat": 4,
 "nbformat_minor": 1
}
