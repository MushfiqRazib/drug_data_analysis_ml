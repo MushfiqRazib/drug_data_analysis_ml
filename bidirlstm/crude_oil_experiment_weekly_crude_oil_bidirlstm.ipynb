{
 "cells": [
  {
   "cell_type": "markdown",
   "metadata": {
    "colab_type": "text",
    "id": "CYLeBqvJAz2D"
   },
   "source": [
    "# Impots"
   ]
  },
  {
   "cell_type": "code",
   "execution_count": 1,
   "metadata": {
    "colab": {},
    "colab_type": "code",
    "id": "koCfKjKvAlTJ"
   },
   "outputs": [],
   "source": [
    "from __future__ import print_function, absolute_import, division\n",
    "\n",
    "# general imports for deep learning\n",
    "import tensorflow as tf\n",
    "from tensorflow.keras import layers\n",
    "import numpy as np\n",
    "from sklearn.preprocessing import StandardScaler\n",
    "from sklearn import preprocessing\n",
    "\n",
    "# data read\n",
    "import pandas as pd\n",
    "\n",
    "# plot\n",
    "import matplotlib.pyplot as plt\n",
    "from tensorflow.keras.utils import plot_model\n",
    "\n",
    "#tensorboard: currently some error\n",
    "#!pip install -U tensorboardcolab\n",
    "#from tensorboardcolab import *\n",
    "\n",
    "# json and pretty print\n",
    "import json\n",
    "import pprint\n",
    "\n",
    "# to persist the numpy arrays data\n",
    "import h5py\n",
    "\n",
    "# handle logging\n",
    "tf.logging.set_verbosity(tf.logging.INFO)\n",
    "\n",
    "# Calculating Mean Absolute Percentage Error of predictions\n",
    "def calc_mape(predicted_data, true_data):\\\n",
    "    return np.divide(np.sum(np.divide(np.absolute(predicted_data - true_data), true_data), 0), true_data.shape[0])\n",
    "\n",
    "def plot_prediction(original, predicted):\n",
    "    #fig = plt.figure(num=None, figsize=(8, 6), dpi=80, facecolor='w', edgecolor='k')\n",
    "    # Get subplots\n",
    "    f, (plt1, plt2, plt3) = plt.subplots(3)\n",
    "    # Get Daily errors\n",
    "    \n",
    "    a = original\n",
    "    b = predicted\n",
    "    if(len(original.shape) > 1):\n",
    "        a = original.reshape(original.shape[0]*original.shape[1])\n",
    "    if(len(predicted.shape) > 1):\n",
    "        b = predicted.reshape(predicted.shape[0]*predicted.shape[1])\n",
    "    \n",
    "    daily_errors = abs(a - b)\n",
    "    t = 7\n",
    "    weekly_errors = temp = [np.float(np.sum(daily_errors[i:i+t])/t) for i in range(0, len(daily_errors), t)]\n",
    "  \n",
    "    # Calculate R2 metric\n",
    "  \n",
    "    # FROM wikipedia: \n",
    "    # Values of R2 outside the range 0 to 1 can occur when the model fits the data worse than a horizontal hyperplane. \n",
    "    # This would occur when the wrong model was chosen.\n",
    "    m = np.mean(a)\n",
    "    ss_tot = np.sum(np.power((a - m), 2))\n",
    "    ss_res = np.sum(np.power((a - b), 2))\n",
    "    r_square = 1 - (ss_res / ss_tot)\n",
    "    r_square = \"{0:.4f}\".format(r_square)\n",
    "    mape = calc_mape(b, a)\n",
    "  \n",
    "    # Get weekly errors\n",
    "    # plot original vs predicted  \n",
    "    plt1.plot(original, color='black', label = 'Original data') \n",
    "    plt1.plot(predicted, color='blue', label = 'Predicted data')\n",
    "\n",
    "    # PLOT DAILY ERRORS\n",
    "    plt2.plot(daily_errors, color='red')\n",
    "    \n",
    "    # PLOT WEEKLY ERRORS\n",
    "    for i, e in enumerate(weekly_errors):\n",
    "        plt3.bar(x=i*7, height=e, width=5, color='red')\n",
    "\n",
    "    plt1.set_title('Actual and Predicted - R2: '+str(r_square) + ' - MAPE:'+str(mape))  \n",
    "    plt2.set_title('Daily Errors')\n",
    "    plt3.set_title('Weekly Errors')\n",
    "  \n",
    "    # IF YOU ARE USING COLAB, USE THIS:\n",
    "    plt.subplots_adjust(left=1, bottom=1, right=4, top=3, wspace=None, hspace=1)\n",
    "  \n",
    "    # IF YOU ARE USING YOUR LOCAL AND SHOWING THE RESULTS USE THE FOLLOWING:\n",
    "    # plt.subplots_adjust(left=0.05, bottom=0.05, right=0.90, top=0.90, wspace=None, hspace=0.4)\n",
    "    \n",
    "    plt.show()\n",
    "\n",
    "def plot_prediction1(original, predicted):\n",
    "  plt.style.use('seaborn-darkgrid')\n",
    "  \n",
    "  # Get subplots\n",
    "  f, (plt1, plt2, plt3) = plt.subplots(3)\n",
    "  \n",
    "  # Get Daily errors\n",
    "  a = original\n",
    "  b = predicted\n",
    "  if(len(original.shape) > 1):\n",
    "    a = original.reshape(original.shape[0]*original.shape[1])\n",
    "    \n",
    "  if(len(predicted.shape) > 1):\n",
    "    b = predicted.reshape(predicted.shape[0]*predicted.shape[1])\n",
    "    \n",
    "  daily_errors = abs(a - b)\n",
    "  \n",
    "  t = 7\n",
    "  weekly_errors = temp = [np.float(np.sum(daily_errors[i:i+t])/t) for i in range(0, len(daily_errors), t)]\n",
    "  \n",
    "  # Calculate R2 metric\n",
    "  \n",
    "  # FROM wikipedia: \n",
    "  # Values of R2 outside the range 0 to 1 can occur when the model fits the data worse than a horizontal hyperplane. \n",
    "  # This would occur when the wrong model was chosen.\n",
    "  m = np.mean(a)\n",
    "  ss_tot = np.sum(np.power((a - m), 2))\n",
    "  ss_res = np.sum(np.power((a - b), 2))\n",
    "  r_square = 1 - (ss_res / ss_tot)\n",
    "  r_square = \"{0:.4f}\".format(r_square)\n",
    "  \n",
    "  # Get weekly errors\n",
    "  # plot original vs predicted  \n",
    "  plt1.plot(original, \n",
    "           color='black', \n",
    "           label = 'Original data') \n",
    "  plt1.plot(predicted,\n",
    "           color='blue', \n",
    "           label = 'Predicted data')\n",
    "\n",
    "\n",
    "\n",
    "  # PLOT DAILY ERRORS\n",
    "  plt2.plot(daily_errors, color='red')\n",
    "\n",
    "    \n",
    "  # PLOT WEEKLY ERRORS\n",
    "  for i, e in enumerate(weekly_errors):\n",
    "    plt3.bar(x=i*7, height=e, width=5, color='red')\n",
    "\n",
    "  plt1.set_title('Actual and Predicted - R2: '+str(r_square))  \n",
    "  plt2.set_title('Daily Errors')\n",
    "  plt3.set_title('Weekly Errors')\n",
    "  \n",
    "  # IF YOU ARE USING COLAB, USE THIS:\n",
    "  plt.subplots_adjust(left=1, bottom=1, right=4, top=3, wspace=None, hspace=1)\n",
    "  \n",
    "  # IF YOU ARE USING YOUR LOCAL AND SHOWING THE RESULTS USE THE FOLLOWING:\n",
    "  # plt.subplots_adjust(left=0.05, bottom=0.05, right=0.90, top=0.90, wspace=None, hspace=0.4)\n",
    "  \n",
    "  plt.show()"
   ]
  },
  {
   "cell_type": "markdown",
   "metadata": {
    "colab_type": "text",
    "id": "XSDT5SUqERro"
   },
   "source": [
    "# Get data"
   ]
  },
  {
   "cell_type": "code",
   "execution_count": 2,
   "metadata": {
    "colab": {},
    "colab_type": "code",
    "id": "dFHLnO3UBKRd"
   },
   "outputs": [],
   "source": [
    "save_filename = 'models/'\n",
    "monthly_data_name = 'data/monthly_crude_oil_83_19.csv'\n",
    "weekly_data_name ='data/weekly_crude_oil_83_19.csv'\n",
    "column_names = ['Date','Price',\t'Open',\t'High', 'Low',\t'Vol.',\t'Change %']"
   ]
  },
  {
   "cell_type": "code",
   "execution_count": 3,
   "metadata": {
    "colab": {},
    "colab_type": "code",
    "id": "JdWw5LZaBc3y"
   },
   "outputs": [],
   "source": [
    "weekly_data = pd.read_csv(weekly_data_name)\n",
    "monthly_data = pd.read_csv(monthly_data_name)"
   ]
  },
  {
   "cell_type": "code",
   "execution_count": 4,
   "metadata": {
    "colab": {},
    "colab_type": "code",
    "id": "CMp6bjuxGA2N"
   },
   "outputs": [],
   "source": [
    "def getVolumeAsFloat(_lst):\n",
    "  l = len(_lst)\n",
    "  result = np.zeros(l)\n",
    "  for i in range(l):\n",
    "    vol = _lst[i]\n",
    "    if 'M' in vol:\n",
    "      _id = vol.index('M')\n",
    "      _mlt = 1000000\n",
    "    elif 'K' in vol:\n",
    "      _id = vol.index('K')\n",
    "      _mlt = 1000\n",
    "    else:\n",
    "      _id = -1\n",
    "\n",
    "    result[i] = float(vol[:_id]) * _mlt\n",
    "  return result"
   ]
  },
  {
   "cell_type": "code",
   "execution_count": 5,
   "metadata": {
    "colab": {},
    "colab_type": "code",
    "id": "pt-zFBWC3T0_"
   },
   "outputs": [],
   "source": [
    "# returns normalized dataset between a and b\n",
    "def minmax_norm(dataset, a, b):\n",
    "  # NORMALIZE DATASET\n",
    "  d = dataset\n",
    "  mi = np.min(dataset)\n",
    "  ma = np.max(dataset)\n",
    "\n",
    "  norm_dataset = ((b-a) * ((d - mi)/(ma - mi))) + a\n",
    "  return norm_dataset\n",
    "\n",
    "def minmax_denorm(old_data, val, a=-1, b=1):\n",
    "  mi = min(old_data)\n",
    "  ma = max(old_data)\n",
    "\n",
    "  return ((val - a) * (ma-mi) / (b-a)) + mi\n",
    "\n",
    "\n",
    "def get_test(X, percentage=0.9):\n",
    "    iXPercentage = int(len(X) * percentage) \n",
    "    X_train_val = X[0:iXPercentage]\n",
    "    X_test = X[iXPercentage:]\n",
    "    return X_train_val, X_test"
   ]
  },
  {
   "cell_type": "code",
   "execution_count": 6,
   "metadata": {
    "colab": {},
    "colab_type": "code",
    "id": "9MdRPbpOqqV-"
   },
   "outputs": [],
   "source": [
    "def get_data_chunks(d_list, windows, quantity=False):\n",
    "  length = len(d_list[0])\n",
    "  step = 1\n",
    "  forecast = 1\n",
    "  \n",
    "  data_dict = {}\n",
    "  for window in windows:\n",
    "    X = []\n",
    "    Y = []\n",
    "    for i in range(0, length, step):\n",
    "      try:\n",
    "        # Get windowed data\n",
    "        windowed_features_list = []\n",
    "        for j in range(len(d_list)):\n",
    "          windowed_features_list.append(d_list[j][i:i+window])\n",
    "\n",
    "        # ALWAYS TAKE THE FIRST data \n",
    "        if quantity:\n",
    "          y_i = d_list[1][i + window + forecast - 1] # get volume important.\n",
    "        else:\n",
    "          y_i = d_list[0][i + window + forecast - 1] # get price\n",
    "        x_i = np.column_stack(tuple(windowed_features_list))\n",
    "      except Exception as e:\n",
    "        print(e)\n",
    "        break\n",
    "\n",
    "      X.append(x_i)\n",
    "      Y.append(y_i)\n",
    "    data_dict[window] = {'X': np.array(X), 'Y': np.array(Y)}\n",
    "    \n",
    "  return data_dict"
   ]
  },
  {
   "cell_type": "markdown",
   "metadata": {
    "colab_type": "text",
    "id": "wpxfsf59EMvA"
   },
   "source": [
    "# Weekly"
   ]
  },
  {
   "cell_type": "code",
   "execution_count": 7,
   "metadata": {
    "colab": {
     "base_uri": "https://localhost:8080/",
     "height": 197
    },
    "colab_type": "code",
    "id": "5rpL4gI0EOnS",
    "outputId": "dc0ad230-e6e5-4121-c2eb-3d0b97e85af4"
   },
   "outputs": [
    {
     "data": {
      "text/html": [
       "<div>\n",
       "<style scoped>\n",
       "    .dataframe tbody tr th:only-of-type {\n",
       "        vertical-align: middle;\n",
       "    }\n",
       "\n",
       "    .dataframe tbody tr th {\n",
       "        vertical-align: top;\n",
       "    }\n",
       "\n",
       "    .dataframe thead th {\n",
       "        text-align: right;\n",
       "    }\n",
       "</style>\n",
       "<table border=\"1\" class=\"dataframe\">\n",
       "  <thead>\n",
       "    <tr style=\"text-align: right;\">\n",
       "      <th></th>\n",
       "      <th>Date</th>\n",
       "      <th>Price</th>\n",
       "      <th>Open</th>\n",
       "      <th>High</th>\n",
       "      <th>Low</th>\n",
       "      <th>Vol.</th>\n",
       "      <th>Change %</th>\n",
       "    </tr>\n",
       "  </thead>\n",
       "  <tbody>\n",
       "    <tr>\n",
       "      <th>0</th>\n",
       "      <td>May 26, 2019</td>\n",
       "      <td>59.17</td>\n",
       "      <td>58.94</td>\n",
       "      <td>59.34</td>\n",
       "      <td>58.14</td>\n",
       "      <td>-</td>\n",
       "      <td>0.92%</td>\n",
       "    </tr>\n",
       "    <tr>\n",
       "      <th>1</th>\n",
       "      <td>May 19, 2019</td>\n",
       "      <td>58.63</td>\n",
       "      <td>62.93</td>\n",
       "      <td>63.81</td>\n",
       "      <td>57.33</td>\n",
       "      <td>2.79M</td>\n",
       "      <td>-6.58%</td>\n",
       "    </tr>\n",
       "    <tr>\n",
       "      <th>2</th>\n",
       "      <td>May 12, 2019</td>\n",
       "      <td>62.76</td>\n",
       "      <td>61.65</td>\n",
       "      <td>63.64</td>\n",
       "      <td>60.64</td>\n",
       "      <td>3.24M</td>\n",
       "      <td>1.78%</td>\n",
       "    </tr>\n",
       "    <tr>\n",
       "      <th>3</th>\n",
       "      <td>May 05, 2019</td>\n",
       "      <td>61.66</td>\n",
       "      <td>61.43</td>\n",
       "      <td>62.95</td>\n",
       "      <td>60.04</td>\n",
       "      <td>3.96M</td>\n",
       "      <td>-0.45%</td>\n",
       "    </tr>\n",
       "    <tr>\n",
       "      <th>4</th>\n",
       "      <td>Apr 28, 2019</td>\n",
       "      <td>61.94</td>\n",
       "      <td>62.95</td>\n",
       "      <td>64.75</td>\n",
       "      <td>60.95</td>\n",
       "      <td>3.64M</td>\n",
       "      <td>-2.15%</td>\n",
       "    </tr>\n",
       "  </tbody>\n",
       "</table>\n",
       "</div>"
      ],
      "text/plain": [
       "           Date  Price   Open   High    Low   Vol. Change %\n",
       "0  May 26, 2019  59.17  58.94  59.34  58.14      -    0.92%\n",
       "1  May 19, 2019  58.63  62.93  63.81  57.33  2.79M   -6.58%\n",
       "2  May 12, 2019  62.76  61.65  63.64  60.64  3.24M    1.78%\n",
       "3  May 05, 2019  61.66  61.43  62.95  60.04  3.96M   -0.45%\n",
       "4  Apr 28, 2019  61.94  62.95  64.75  60.95  3.64M   -2.15%"
      ]
     },
     "execution_count": 7,
     "metadata": {},
     "output_type": "execute_result"
    }
   ],
   "source": [
    "weekly_data.head()"
   ]
  },
  {
   "cell_type": "code",
   "execution_count": 8,
   "metadata": {
    "colab": {},
    "colab_type": "code",
    "id": "ZlYALAifDYUE"
   },
   "outputs": [],
   "source": [
    "weekly_prices = np.array(weekly_data[column_names[1]])[1:]\n",
    "weekly_volumes = np.array(weekly_data[column_names[5]])[1:]\n",
    "weekly_volumes = getVolumeAsFloat(weekly_volumes)\n",
    "\n",
    "weekly_prices = np.flip(weekly_prices)\n",
    "weekly_volumes = np.flip(weekly_volumes)"
   ]
  },
  {
   "cell_type": "code",
   "execution_count": 9,
   "metadata": {
    "colab": {},
    "colab_type": "code",
    "id": "fACcvFRmRuYQ"
   },
   "outputs": [],
   "source": [
    "# Extract Test\n",
    "weekly_prices, test_weekly_prices = get_test(weekly_prices)\n",
    "weekly_volumes, test_weekly_volumes = get_test(weekly_volumes)"
   ]
  },
  {
   "cell_type": "code",
   "execution_count": 10,
   "metadata": {
    "colab": {},
    "colab_type": "code",
    "id": "kJI0eI5oOyfR"
   },
   "outputs": [],
   "source": [
    "norm_weekly_prices = minmax_norm(weekly_prices, a=-1, b=1)\n",
    "norm_weekly_volumes = minmax_norm(weekly_volumes, a=-1, b=1)"
   ]
  },
  {
   "cell_type": "code",
   "execution_count": 11,
   "metadata": {
    "colab": {
     "base_uri": "https://localhost:8080/",
     "height": 70
    },
    "colab_type": "code",
    "id": "mZY61xUMIUKK",
    "outputId": "39f59090-b2e1-4efa-d309-2de0db8cc0c1"
   },
   "outputs": [
    {
     "name": "stdout",
     "output_type": "stream",
     "text": [
      "index 1697 is out of bounds for axis 0 with size 1697\n",
      "index 1697 is out of bounds for axis 0 with size 1697\n",
      "index 1697 is out of bounds for axis 0 with size 1697\n"
     ]
    }
   ],
   "source": [
    "#normalized d_list\n",
    "d_list = [norm_weekly_prices, norm_weekly_volumes]\n",
    "windows = [6,8,12]\n",
    "data_dict = get_data_chunks(d_list, windows)"
   ]
  },
  {
   "cell_type": "code",
   "execution_count": 12,
   "metadata": {
    "colab": {},
    "colab_type": "code",
    "id": "XGrEyfCxIU-6"
   },
   "outputs": [],
   "source": [
    "  def build_bidir_lstm_model(tensor_shape):\n",
    "    # L2 norm regularizer\n",
    "    regularizer = tf.keras.regularizers.l2(0.01)\n",
    "\n",
    "    # XAVIER INITIALIZER\n",
    "#    initializer = tf.keras.initializers.glorot_uniform()\n",
    "\n",
    "    model = tf.keras.Sequential()\n",
    "\n",
    "  # hyperbolic tangent is automatically seleceted as activation function\n",
    "    units = tensor_shape[0]\n",
    "    model.add(layers.Bidirectional(layers.LSTM(units, return_sequences=True), batch_input_shape=(None, tensor_shape[0], tensor_shape[1])))\n",
    "    #model.add(layers.LSTM(units, \n",
    "                          #batch_input_shape=(None, tensor_shape[0], tensor_shape[1]),\n",
    "                          #recurrent_regularizer=regularizer,\n",
    "                          #bias_regularizer=regularizer, \n",
    "                          #kernel_regularizer=regularizer\n",
    "                         #))\n",
    "\n",
    "\n",
    "    #model.add(layers.LSTM(units, return_sequences=True))\n",
    "    #model.add(layers.LSTM(units))\n",
    "    \n",
    "    model.add(layers.Dense(32,activation='relu'))\n",
    "    model.add(layers.Dense(32,activation='relu'))\n",
    "    model.add(layers.Flatten())\n",
    "    model.add(layers.Dense(1))\n",
    "    \n",
    "    return model"
   ]
  },
  {
   "cell_type": "code",
   "execution_count": 13,
   "metadata": {
    "colab": {},
    "colab_type": "code",
    "id": "Y9gwzLgoLIj1"
   },
   "outputs": [],
   "source": [
    "w = 6\n",
    "b = 64"
   ]
  },
  {
   "cell_type": "code",
   "execution_count": 14,
   "metadata": {
    "colab": {},
    "colab_type": "code",
    "id": "46LBKkGiJXIr"
   },
   "outputs": [],
   "source": [
    "model = build_bidir_lstm_model(tensor_shape=(w, 2))"
   ]
  },
  {
   "cell_type": "code",
   "execution_count": 15,
   "metadata": {
    "colab": {
     "base_uri": "https://localhost:8080/",
     "height": 283
    },
    "colab_type": "code",
    "id": "BesJ4ACNLPV9",
    "outputId": "c92e22a6-7a9a-4159-8dcc-26f888ad10d7"
   },
   "outputs": [
    {
     "name": "stdout",
     "output_type": "stream",
     "text": [
      "_________________________________________________________________\n",
      "Layer (type)                 Output Shape              Param #   \n",
      "=================================================================\n",
      "bidirectional (Bidirectional (None, 6, 12)             432       \n",
      "_________________________________________________________________\n",
      "dense (Dense)                (None, 6, 32)             416       \n",
      "_________________________________________________________________\n",
      "dense_1 (Dense)              (None, 6, 32)             1056      \n",
      "_________________________________________________________________\n",
      "flatten (Flatten)            (None, 192)               0         \n",
      "_________________________________________________________________\n",
      "dense_2 (Dense)              (None, 1)                 193       \n",
      "=================================================================\n",
      "Total params: 2,097\n",
      "Trainable params: 2,097\n",
      "Non-trainable params: 0\n",
      "_________________________________________________________________\n"
     ]
    }
   ],
   "source": [
    "model.summary()"
   ]
  },
  {
   "cell_type": "code",
   "execution_count": 16,
   "metadata": {
    "colab": {
     "base_uri": "https://localhost:8080/",
     "height": 52
    },
    "colab_type": "code",
    "id": "QNTYdPfELRFZ",
    "outputId": "9b44b071-44e3-4253-b6f5-0afafc065042"
   },
   "outputs": [
    {
     "name": "stdout",
     "output_type": "stream",
     "text": [
      "save_filename: models/\n",
      "Model will be saved at: models/crude_oil_weekly_bidirlstm_model_w6_b64\n"
     ]
    }
   ],
   "source": [
    "print('save_filename: '+save_filename)\n",
    "learning_rate=0.001\n",
    "epochs=10000\n",
    "verbose=1\n",
    "save_filename = 'models/'\n",
    "model_save_name = save_filename + 'crude_oil_weekly_bidirlstm_model_w6_b64'\n",
    "    \n",
    "opt_1 = tf.keras.optimizers.Adam(learning_rate)\n",
    "    \n",
    "loss_func = tf.keras.losses.mean_squared_error\n",
    "\n",
    "metrics = []\n",
    "metrics.append(tf.keras.metrics.mean_absolute_error)\n",
    "metrics.append(tf.keras.metrics.mean_squared_error)\n",
    "metrics.append(tf.keras.metrics.mean_absolute_percentage_error)\n",
    "\n",
    "print(\"Model will be saved at: \"+model_save_name)\n",
    "model.compile(optimizer=opt_1, \n",
    "                  loss=loss_func, \n",
    "                  metrics=metrics)\n",
    "    \n",
    "callbacks = []\n",
    "cp = tf.keras.callbacks.ModelCheckpoint(filepath=model_save_name, verbose=1, save_best_only=True)\n",
    "early_stop = tf.keras.callbacks.EarlyStopping(monitor='val_loss', patience=20)\n",
    "    \n",
    "callbacks.append(cp)\n",
    "callbacks.append(early_stop)    "
   ]
  },
  {
   "cell_type": "code",
   "execution_count": 17,
   "metadata": {
    "colab": {},
    "colab_type": "code",
    "id": "juxCQZt2LoK5"
   },
   "outputs": [],
   "source": [
    "  def get_train_validation(X, y, percentage=0.8):\n",
    "    iXPercentage = int(len(X) * percentage) \n",
    "    iYPercentage = int(len(y) * percentage)\n",
    "    X_train = X[0:iXPercentage]\n",
    "    Y_train = y[0:iYPercentage]\n",
    "    \n",
    "    #X_train, Y_train = shuffle_in_unison(X_train, Y_train)\n",
    "\n",
    "    X_val = X[iXPercentage:]\n",
    "    Y_val = y[iYPercentage:]\n",
    "    return X_train, X_val, Y_train, Y_val"
   ]
  },
  {
   "cell_type": "code",
   "execution_count": 18,
   "metadata": {
    "colab": {},
    "colab_type": "code",
    "id": "lxk8KXi4LrfP"
   },
   "outputs": [],
   "source": [
    "nX = data_dict[w]['X']\n",
    "nY =data_dict[w]['Y']\n",
    "X_train, X_val, Y_train, Y_val = get_train_validation(nX, nY)"
   ]
  },
  {
   "cell_type": "code",
   "execution_count": 19,
   "metadata": {
    "colab": {
     "base_uri": "https://localhost:8080/",
     "height": 52
    },
    "colab_type": "code",
    "id": "SI8zj-3qL9vV",
    "outputId": "7aaa445f-6a48-4729-cbf6-fe53a46d9b01"
   },
   "outputs": [
    {
     "name": "stdout",
     "output_type": "stream",
     "text": [
      "X_train: (1352, 6, 2)\n",
      "X_val: (339, 6, 2)\n"
     ]
    }
   ],
   "source": [
    "print('X_train: '+str(X_train.shape))\n",
    "print('X_val: '+str(X_val.shape))\n",
    "#print('X_test: '+str(X_test.shape))"
   ]
  },
  {
   "cell_type": "code",
   "execution_count": 20,
   "metadata": {
    "colab": {
     "base_uri": "https://localhost:8080/",
     "height": 301
    },
    "colab_type": "code",
    "id": "Tg4UdlzINAOD",
    "outputId": "efe2997a-ec5e-4be0-94a7-83195ae870a8"
   },
   "outputs": [
    {
     "name": "stdout",
     "output_type": "stream",
     "text": [
      "[[-0.70869888 -0.9989643 ]\n",
      " [-0.7072119  -0.99897724]\n",
      " [-0.70319703 -0.99952099]\n",
      " [-0.70498141 -0.99947568]\n",
      " [-0.71256506 -0.99952746]\n",
      " [-0.71732342 -0.99962456]]\n",
      "-0.7098884758364312\n",
      "****************************************************************************************************\n",
      "[[-0.7072119  -0.99897724]\n",
      " [-0.70319703 -0.99952099]\n",
      " [-0.70498141 -0.99947568]\n",
      " [-0.71256506 -0.99952746]\n",
      " [-0.71732342 -0.99962456]\n",
      " [-0.70988848 -0.999398  ]]\n",
      "-0.7115241635687732\n",
      "****************************************************************************************************\n"
     ]
    }
   ],
   "source": [
    "print(X_train[0])\n",
    "print(Y_train[0])\n",
    "print('*'*100)\n",
    "print(X_train[1])\n",
    "print(Y_train[1])\n",
    "print('*'*100)"
   ]
  },
  {
   "cell_type": "code",
   "execution_count": 21,
   "metadata": {
    "colab": {},
    "colab_type": "code",
    "id": "hSjh00JwMJCG"
   },
   "outputs": [
    {
     "name": "stdout",
     "output_type": "stream",
     "text": [
      "Train on 1352 samples, validate on 339 samples\n",
      "Epoch 1/10000\n",
      "1216/1352 [=========================>....] - ETA: 0s - loss: 0.6353 - mean_absolute_error: 0.7543 - mean_squared_error: 0.6353 - mean_absolute_percentage_error: 104.2708\n",
      "Epoch 00001: val_loss improved from inf to 0.06881, saving model to models/crude_oil_weekly_bidirlstm_model_w6_b64\n",
      "1352/1352 [==============================] - 5s 4ms/step - loss: 0.6126 - mean_absolute_error: 0.7400 - mean_squared_error: 0.6126 - mean_absolute_percentage_error: 101.7731 - val_loss: 0.0688 - val_mean_absolute_error: 0.2288 - val_mean_squared_error: 0.0688 - val_mean_absolute_percentage_error: 266.6147\n",
      "Epoch 2/10000\n",
      "1280/1352 [===========================>..] - ETA: 0s - loss: 0.1959 - mean_absolute_error: 0.4025 - mean_squared_error: 0.1959 - mean_absolute_percentage_error: 59.9515 ETA: 0s - loss: 0.2503 - mean_absolute_error: 0.4669 - mean_squared_error: 0.2503 - mean_absolute_percentage_error: 6\n",
      "Epoch 00002: val_loss did not improve from 0.06881\n",
      "1352/1352 [==============================] - 1s 415us/step - loss: 0.1878 - mean_absolute_error: 0.3914 - mean_squared_error: 0.1878 - mean_absolute_percentage_error: 59.4925 - val_loss: 0.0989 - val_mean_absolute_error: 0.2835 - val_mean_squared_error: 0.0989 - val_mean_absolute_percentage_error: 830.8378\n",
      "Epoch 3/10000\n",
      "1216/1352 [=========================>....] - ETA: 0s - loss: 0.0244 - mean_absolute_error: 0.1102 - mean_squared_error: 0.0244 - mean_absolute_percentage_error: 40.8707\n",
      "Epoch 00003: val_loss improved from 0.06881 to 0.02151, saving model to models/crude_oil_weekly_bidirlstm_model_w6_b64\n",
      "1352/1352 [==============================] - 1s 488us/step - loss: 0.0225 - mean_absolute_error: 0.1045 - mean_squared_error: 0.0225 - mean_absolute_percentage_error: 38.1410 - val_loss: 0.0215 - val_mean_absolute_error: 0.1282 - val_mean_squared_error: 0.0215 - val_mean_absolute_percentage_error: 462.7229\n",
      "Epoch 4/10000\n",
      "1344/1352 [============================>.] - ETA: 0s - loss: 0.0066 - mean_absolute_error: 0.0584 - mean_squared_error: 0.0066 - mean_absolute_percentage_error: 20.0973\n",
      "Epoch 00004: val_loss improved from 0.02151 to 0.00928, saving model to models/crude_oil_weekly_bidirlstm_model_w6_b64\n",
      "1352/1352 [==============================] - 1s 420us/step - loss: 0.0066 - mean_absolute_error: 0.0583 - mean_squared_error: 0.0066 - mean_absolute_percentage_error: 20.1346 - val_loss: 0.0093 - val_mean_absolute_error: 0.0754 - val_mean_squared_error: 0.0093 - val_mean_absolute_percentage_error: 149.3072\n",
      "Epoch 5/10000\n",
      "1344/1352 [============================>.] - ETA: 0s - loss: 0.0035 - mean_absolute_error: 0.0371 - mean_squared_error: 0.0035 - mean_absolute_percentage_error: 16.8682\n",
      "Epoch 00005: val_loss did not improve from 0.00928\n",
      "1352/1352 [==============================] - 1s 423us/step - loss: 0.0035 - mean_absolute_error: 0.0371 - mean_squared_error: 0.0035 - mean_absolute_percentage_error: 16.8130 - val_loss: 0.0129 - val_mean_absolute_error: 0.0911 - val_mean_squared_error: 0.0129 - val_mean_absolute_percentage_error: 106.6327\n",
      "Epoch 6/10000\n",
      "1280/1352 [===========================>..] - ETA: 0s - loss: 0.0032 - mean_absolute_error: 0.0340 - mean_squared_error: 0.0032 - mean_absolute_percentage_error: 16.3589\n",
      "Epoch 00006: val_loss did not improve from 0.00928\n",
      "1352/1352 [==============================] - 1s 421us/step - loss: 0.0032 - mean_absolute_error: 0.0338 - mean_squared_error: 0.0032 - mean_absolute_percentage_error: 15.9864 - val_loss: 0.0106 - val_mean_absolute_error: 0.0810 - val_mean_squared_error: 0.0106 - val_mean_absolute_percentage_error: 102.3155\n",
      "Epoch 7/10000\n",
      "1280/1352 [===========================>..] - ETA: 0s - loss: 0.0029 - mean_absolute_error: 0.0321 - mean_squared_error: 0.0029 - mean_absolute_percentage_error: 16.0347\n",
      "Epoch 00007: val_loss did not improve from 0.00928\n",
      "1352/1352 [==============================] - 1s 427us/step - loss: 0.0029 - mean_absolute_error: 0.0321 - mean_squared_error: 0.0029 - mean_absolute_percentage_error: 15.6739 - val_loss: 0.0113 - val_mean_absolute_error: 0.0833 - val_mean_squared_error: 0.0113 - val_mean_absolute_percentage_error: 96.2676\n",
      "Epoch 8/10000\n",
      "1280/1352 [===========================>..] - ETA: 0s - loss: 0.0029 - mean_absolute_error: 0.0316 - mean_squared_error: 0.0029 - mean_absolute_percentage_error: 16.2163\n",
      "Epoch 00008: val_loss did not improve from 0.00928\n",
      "1352/1352 [==============================] - 1s 431us/step - loss: 0.0028 - mean_absolute_error: 0.0313 - mean_squared_error: 0.0028 - mean_absolute_percentage_error: 15.7189 - val_loss: 0.0102 - val_mean_absolute_error: 0.0786 - val_mean_squared_error: 0.0102 - val_mean_absolute_percentage_error: 101.0988\n",
      "Epoch 9/10000\n",
      "1344/1352 [============================>.] - ETA: 0s - loss: 0.0027 - mean_absolute_error: 0.0302 - mean_squared_error: 0.0027 - mean_absolute_percentage_error: 15.6755\n",
      "Epoch 00009: val_loss did not improve from 0.00928\n",
      "1352/1352 [==============================] - 1s 473us/step - loss: 0.0027 - mean_absolute_error: 0.0302 - mean_squared_error: 0.0027 - mean_absolute_percentage_error: 15.6566 - val_loss: 0.0114 - val_mean_absolute_error: 0.0835 - val_mean_squared_error: 0.0114 - val_mean_absolute_percentage_error: 93.5559\n",
      "Epoch 10/10000\n",
      "1344/1352 [============================>.] - ETA: 0s - loss: 0.0026 - mean_absolute_error: 0.0301 - mean_squared_error: 0.0026 - mean_absolute_percentage_error: 15.3013\n",
      "Epoch 00010: val_loss improved from 0.00928 to 0.00916, saving model to models/crude_oil_weekly_bidirlstm_model_w6_b64\n",
      "1352/1352 [==============================] - 1s 435us/step - loss: 0.0026 - mean_absolute_error: 0.0301 - mean_squared_error: 0.0026 - mean_absolute_percentage_error: 15.2561 - val_loss: 0.0092 - val_mean_absolute_error: 0.0737 - val_mean_squared_error: 0.0092 - val_mean_absolute_percentage_error: 109.4803\n",
      "Epoch 11/10000\n",
      "1280/1352 [===========================>..] - ETA: 0s - loss: 0.0026 - mean_absolute_error: 0.0299 - mean_squared_error: 0.0026 - mean_absolute_percentage_error: 15.7062\n",
      "Epoch 00011: val_loss did not improve from 0.00916\n",
      "1352/1352 [==============================] - 1s 419us/step - loss: 0.0025 - mean_absolute_error: 0.0298 - mean_squared_error: 0.0025 - mean_absolute_percentage_error: 15.1223 - val_loss: 0.0098 - val_mean_absolute_error: 0.0760 - val_mean_squared_error: 0.0098 - val_mean_absolute_percentage_error: 93.4141\n",
      "Epoch 12/10000\n",
      "1216/1352 [=========================>....] - ETA: 0s - loss: 0.0025 - mean_absolute_error: 0.0287 - mean_squared_error: 0.0025 - mean_absolute_percentage_error: 15.6953\n",
      "Epoch 00012: val_loss improved from 0.00916 to 0.00857, saving model to models/crude_oil_weekly_bidirlstm_model_w6_b64\n",
      "1352/1352 [==============================] - 1s 424us/step - loss: 0.0024 - mean_absolute_error: 0.0287 - mean_squared_error: 0.0024 - mean_absolute_percentage_error: 14.9906 - val_loss: 0.0086 - val_mean_absolute_error: 0.0710 - val_mean_squared_error: 0.0086 - val_mean_absolute_percentage_error: 110.5161\n",
      "Epoch 13/10000\n",
      "1344/1352 [============================>.] - ETA: 0s - loss: 0.0024 - mean_absolute_error: 0.0286 - mean_squared_error: 0.0024 - mean_absolute_percentage_error: 15.0496\n",
      "Epoch 00013: val_loss improved from 0.00857 to 0.00854, saving model to models/crude_oil_weekly_bidirlstm_model_w6_b64\n",
      "1352/1352 [==============================] - 1s 491us/step - loss: 0.0024 - mean_absolute_error: 0.0286 - mean_squared_error: 0.0024 - mean_absolute_percentage_error: 15.0057 - val_loss: 0.0085 - val_mean_absolute_error: 0.0708 - val_mean_squared_error: 0.0085 - val_mean_absolute_percentage_error: 108.6295\n",
      "Epoch 14/10000\n",
      "1344/1352 [============================>.] - ETA: 0s - loss: 0.0023 - mean_absolute_error: 0.0277 - mean_squared_error: 0.0023 - mean_absolute_percentage_error: 14.5148\n",
      "Epoch 00014: val_loss did not improve from 0.00854\n",
      "1352/1352 [==============================] - 1s 398us/step - loss: 0.0023 - mean_absolute_error: 0.0278 - mean_squared_error: 0.0023 - mean_absolute_percentage_error: 14.4659 - val_loss: 0.0090 - val_mean_absolute_error: 0.0723 - val_mean_squared_error: 0.0090 - val_mean_absolute_percentage_error: 100.2197\n",
      "Epoch 15/10000\n",
      "1216/1352 [=========================>....] - ETA: 0s - loss: 0.0024 - mean_absolute_error: 0.0286 - mean_squared_error: 0.0024 - mean_absolute_percentage_error: 15.7553\n",
      "Epoch 00015: val_loss did not improve from 0.00854\n",
      "1352/1352 [==============================] - 1s 470us/step - loss: 0.0023 - mean_absolute_error: 0.0282 - mean_squared_error: 0.0023 - mean_absolute_percentage_error: 14.6908 - val_loss: 0.0090 - val_mean_absolute_error: 0.0723 - val_mean_squared_error: 0.0090 - val_mean_absolute_percentage_error: 97.3630\n",
      "Epoch 16/10000\n",
      "1344/1352 [============================>.] - ETA: 0s - loss: 0.0022 - mean_absolute_error: 0.0276 - mean_squared_error: 0.0022 - mean_absolute_percentage_error: 14.3104\n",
      "Epoch 00016: val_loss did not improve from 0.00854\n",
      "1352/1352 [==============================] - 1s 414us/step - loss: 0.0022 - mean_absolute_error: 0.0275 - mean_squared_error: 0.0022 - mean_absolute_percentage_error: 14.2414 - val_loss: 0.0089 - val_mean_absolute_error: 0.0720 - val_mean_squared_error: 0.0089 - val_mean_absolute_percentage_error: 99.8666\n",
      "Epoch 17/10000\n",
      "1216/1352 [=========================>....] - ETA: 0s - loss: 0.0021 - mean_absolute_error: 0.0272 - mean_squared_error: 0.0021 - mean_absolute_percentage_error: 8.5350\n",
      "Epoch 00017: val_loss did not improve from 0.00854\n",
      "1352/1352 [==============================] - 1s 479us/step - loss: 0.0022 - mean_absolute_error: 0.0269 - mean_squared_error: 0.0022 - mean_absolute_percentage_error: 14.1491 - val_loss: 0.0095 - val_mean_absolute_error: 0.0738 - val_mean_squared_error: 0.0095 - val_mean_absolute_percentage_error: 96.1368\n",
      "Epoch 18/10000\n",
      "1344/1352 [============================>.] - ETA: 0s - loss: 0.0022 - mean_absolute_error: 0.0275 - mean_squared_error: 0.0022 - mean_absolute_percentage_error: 14.6640\n",
      "Epoch 00018: val_loss did not improve from 0.00854\n",
      "1352/1352 [==============================] - 1s 434us/step - loss: 0.0022 - mean_absolute_error: 0.0275 - mean_squared_error: 0.0022 - mean_absolute_percentage_error: 14.6038 - val_loss: 0.0092 - val_mean_absolute_error: 0.0727 - val_mean_squared_error: 0.0092 - val_mean_absolute_percentage_error: 104.1939\n",
      "Epoch 19/10000\n",
      "1344/1352 [============================>.] - ETA: 0s - loss: 0.0021 - mean_absolute_error: 0.0265 - mean_squared_error: 0.0021 - mean_absolute_percentage_error: 14.3196\n",
      "Epoch 00019: val_loss did not improve from 0.00854\n",
      "1352/1352 [==============================] - 1s 467us/step - loss: 0.0021 - mean_absolute_error: 0.0266 - mean_squared_error: 0.0021 - mean_absolute_percentage_error: 14.2768 - val_loss: 0.0086 - val_mean_absolute_error: 0.0708 - val_mean_squared_error: 0.0086 - val_mean_absolute_percentage_error: 113.3864\n",
      "Epoch 20/10000\n",
      "1280/1352 [===========================>..] - ETA: 0s - loss: 0.0020 - mean_absolute_error: 0.0260 - mean_squared_error: 0.0020 - mean_absolute_percentage_error: 14.5074\n",
      "Epoch 00020: val_loss did not improve from 0.00854\n",
      "1352/1352 [==============================] - 1s 589us/step - loss: 0.0020 - mean_absolute_error: 0.0262 - mean_squared_error: 0.0020 - mean_absolute_percentage_error: 14.0639 - val_loss: 0.0087 - val_mean_absolute_error: 0.0714 - val_mean_squared_error: 0.0087 - val_mean_absolute_percentage_error: 110.6029\n",
      "Epoch 21/10000\n",
      "1216/1352 [=========================>....] - ETA: 0s - loss: 0.0020 - mean_absolute_error: 0.0280 - mean_squared_error: 0.0020 - mean_absolute_percentage_error: 13.8058\n",
      "Epoch 00021: val_loss did not improve from 0.00854\n",
      "1352/1352 [==============================] - 1s 390us/step - loss: 0.0021 - mean_absolute_error: 0.0279 - mean_squared_error: 0.0021 - mean_absolute_percentage_error: 14.0966 - val_loss: 0.0086 - val_mean_absolute_error: 0.0712 - val_mean_squared_error: 0.0086 - val_mean_absolute_percentage_error: 114.4115\n",
      "Epoch 22/10000\n",
      "1344/1352 [============================>.] - ETA: 0s - loss: 0.0020 - mean_absolute_error: 0.0258 - mean_squared_error: 0.0020 - mean_absolute_percentage_error: 14.0144\n",
      "Epoch 00022: val_loss improved from 0.00854 to 0.00842, saving model to models/crude_oil_weekly_bidirlstm_model_w6_b64\n",
      "1352/1352 [==============================] - 1s 443us/step - loss: 0.0020 - mean_absolute_error: 0.0258 - mean_squared_error: 0.0020 - mean_absolute_percentage_error: 13.9783 - val_loss: 0.0084 - val_mean_absolute_error: 0.0704 - val_mean_squared_error: 0.0084 - val_mean_absolute_percentage_error: 122.4471\n",
      "Epoch 23/10000\n",
      "1280/1352 [===========================>..] - ETA: 0s - loss: 0.0020 - mean_absolute_error: 0.0265 - mean_squared_error: 0.0020 - mean_absolute_percentage_error: 13.5261\n",
      "Epoch 00023: val_loss did not improve from 0.00842\n",
      "1352/1352 [==============================] - 1s 423us/step - loss: 0.0020 - mean_absolute_error: 0.0263 - mean_squared_error: 0.0020 - mean_absolute_percentage_error: 13.5400 - val_loss: 0.0085 - val_mean_absolute_error: 0.0703 - val_mean_squared_error: 0.0085 - val_mean_absolute_percentage_error: 119.4764\n",
      "Epoch 24/10000\n",
      "1216/1352 [=========================>....] - ETA: 0s - loss: 0.0020 - mean_absolute_error: 0.0260 - mean_squared_error: 0.0020 - mean_absolute_percentage_error: 13.9797\n",
      "Epoch 00024: val_loss improved from 0.00842 to 0.00835, saving model to models/crude_oil_weekly_bidirlstm_model_w6_b64\n",
      "1352/1352 [==============================] - 1s 451us/step - loss: 0.0019 - mean_absolute_error: 0.0257 - mean_squared_error: 0.0019 - mean_absolute_percentage_error: 13.3531 - val_loss: 0.0083 - val_mean_absolute_error: 0.0698 - val_mean_squared_error: 0.0083 - val_mean_absolute_percentage_error: 124.8978\n",
      "Epoch 25/10000\n",
      "1216/1352 [=========================>....] - ETA: 0s - loss: 0.0020 - mean_absolute_error: 0.0265 - mean_squared_error: 0.0020 - mean_absolute_percentage_error: 14.8284\n",
      "Epoch 00025: val_loss improved from 0.00835 to 0.00821, saving model to models/crude_oil_weekly_bidirlstm_model_w6_b64\n",
      "1352/1352 [==============================] - 1s 481us/step - loss: 0.0019 - mean_absolute_error: 0.0258 - mean_squared_error: 0.0019 - mean_absolute_percentage_error: 13.7727 - val_loss: 0.0082 - val_mean_absolute_error: 0.0696 - val_mean_squared_error: 0.0082 - val_mean_absolute_percentage_error: 135.3995\n",
      "Epoch 26/10000\n",
      "1344/1352 [============================>.] - ETA: 0s - loss: 0.0019 - mean_absolute_error: 0.0251 - mean_squared_error: 0.0019 - mean_absolute_percentage_error: 13.4238\n",
      "Epoch 00026: val_loss did not improve from 0.00821\n",
      "1352/1352 [==============================] - 1s 410us/step - loss: 0.0019 - mean_absolute_error: 0.0251 - mean_squared_error: 0.0019 - mean_absolute_percentage_error: 13.3908 - val_loss: 0.0083 - val_mean_absolute_error: 0.0700 - val_mean_squared_error: 0.0083 - val_mean_absolute_percentage_error: 131.3332\n",
      "Epoch 27/10000\n",
      "1280/1352 [===========================>..] - ETA: 0s - loss: 0.0018 - mean_absolute_error: 0.0256 - mean_squared_error: 0.0018 - mean_absolute_percentage_error: 13.6200 \n",
      "Epoch 00027: val_loss improved from 0.00821 to 0.00812, saving model to models/crude_oil_weekly_bidirlstm_model_w6_b64\n",
      "1352/1352 [==============================] - 1s 463us/step - loss: 0.0018 - mean_absolute_error: 0.0257 - mean_squared_error: 0.0018 - mean_absolute_percentage_error: 13.1540 - val_loss: 0.0081 - val_mean_absolute_error: 0.0697 - val_mean_squared_error: 0.0081 - val_mean_absolute_percentage_error: 141.9722\n",
      "Epoch 28/10000\n",
      "1344/1352 [============================>.] - ETA: 0s - loss: 0.0018 - mean_absolute_error: 0.0248 - mean_squared_error: 0.0018 - mean_absolute_percentage_error: 13.3259\n",
      "Epoch 00028: val_loss did not improve from 0.00812\n",
      "1352/1352 [==============================] - 1s 460us/step - loss: 0.0018 - mean_absolute_error: 0.0248 - mean_squared_error: 0.0018 - mean_absolute_percentage_error: 13.2652 - val_loss: 0.0082 - val_mean_absolute_error: 0.0698 - val_mean_squared_error: 0.0082 - val_mean_absolute_percentage_error: 142.7253\n",
      "Epoch 29/10000\n",
      "1280/1352 [===========================>..] - ETA: 0s - loss: 0.0018 - mean_absolute_error: 0.0246 - mean_squared_error: 0.0018 - mean_absolute_percentage_error: 12.9766\n",
      "Epoch 00029: val_loss did not improve from 0.00812\n",
      "1352/1352 [==============================] - 1s 445us/step - loss: 0.0018 - mean_absolute_error: 0.0246 - mean_squared_error: 0.0018 - mean_absolute_percentage_error: 12.9295 - val_loss: 0.0082 - val_mean_absolute_error: 0.0701 - val_mean_squared_error: 0.0082 - val_mean_absolute_percentage_error: 138.9035\n"
     ]
    },
    {
     "name": "stdout",
     "output_type": "stream",
     "text": [
      "Epoch 30/10000\n",
      "1216/1352 [=========================>....] - ETA: 0s - loss: 0.0018 - mean_absolute_error: 0.0244 - mean_squared_error: 0.0018 - mean_absolute_percentage_error: 13.8839\n",
      "Epoch 00030: val_loss improved from 0.00812 to 0.00804, saving model to models/crude_oil_weekly_bidirlstm_model_w6_b64\n",
      "1352/1352 [==============================] - 1s 423us/step - loss: 0.0018 - mean_absolute_error: 0.0247 - mean_squared_error: 0.0018 - mean_absolute_percentage_error: 13.2841 - val_loss: 0.0080 - val_mean_absolute_error: 0.0705 - val_mean_squared_error: 0.0080 - val_mean_absolute_percentage_error: 157.4338\n",
      "Epoch 31/10000\n",
      "1216/1352 [=========================>....] - ETA: 0s - loss: 0.0019 - mean_absolute_error: 0.0257 - mean_squared_error: 0.0019 - mean_absolute_percentage_error: 8.2523\n",
      "Epoch 00031: val_loss improved from 0.00804 to 0.00803, saving model to models/crude_oil_weekly_bidirlstm_model_w6_b64\n",
      "1352/1352 [==============================] - 1s 433us/step - loss: 0.0019 - mean_absolute_error: 0.0256 - mean_squared_error: 0.0019 - mean_absolute_percentage_error: 13.4753 - val_loss: 0.0080 - val_mean_absolute_error: 0.0688 - val_mean_squared_error: 0.0080 - val_mean_absolute_percentage_error: 144.8114\n",
      "Epoch 32/10000\n",
      "1216/1352 [=========================>....] - ETA: 0s - loss: 0.0018 - mean_absolute_error: 0.0256 - mean_squared_error: 0.0018 - mean_absolute_percentage_error: 13.2268\n",
      "Epoch 00032: val_loss did not improve from 0.00803\n",
      "1352/1352 [==============================] - 1s 420us/step - loss: 0.0017 - mean_absolute_error: 0.0257 - mean_squared_error: 0.0017 - mean_absolute_percentage_error: 12.8465 - val_loss: 0.0081 - val_mean_absolute_error: 0.0693 - val_mean_squared_error: 0.0081 - val_mean_absolute_percentage_error: 151.7887\n",
      "Epoch 33/10000\n",
      "1216/1352 [=========================>....] - ETA: 0s - loss: 0.0016 - mean_absolute_error: 0.0249 - mean_squared_error: 0.0016 - mean_absolute_percentage_error: 13.2242\n",
      "Epoch 00033: val_loss improved from 0.00803 to 0.00768, saving model to models/crude_oil_weekly_bidirlstm_model_w6_b64\n",
      "1352/1352 [==============================] - 1s 426us/step - loss: 0.0017 - mean_absolute_error: 0.0249 - mean_squared_error: 0.0017 - mean_absolute_percentage_error: 12.7478 - val_loss: 0.0077 - val_mean_absolute_error: 0.0679 - val_mean_squared_error: 0.0077 - val_mean_absolute_percentage_error: 163.6530\n",
      "Epoch 34/10000\n",
      "1344/1352 [============================>.] - ETA: 0s - loss: 0.0016 - mean_absolute_error: 0.0242 - mean_squared_error: 0.0016 - mean_absolute_percentage_error: 12.8965\n",
      "Epoch 00034: val_loss did not improve from 0.00768\n",
      "1352/1352 [==============================] - 1s 575us/step - loss: 0.0016 - mean_absolute_error: 0.0242 - mean_squared_error: 0.0016 - mean_absolute_percentage_error: 12.8397 - val_loss: 0.0080 - val_mean_absolute_error: 0.0686 - val_mean_squared_error: 0.0080 - val_mean_absolute_percentage_error: 153.8832\n",
      "Epoch 35/10000\n",
      "1280/1352 [===========================>..] - ETA: 0s - loss: 0.0017 - mean_absolute_error: 0.0253 - mean_squared_error: 0.0017 - mean_absolute_percentage_error: 12.3528\n",
      "Epoch 00035: val_loss did not improve from 0.00768\n",
      "1352/1352 [==============================] - 1s 451us/step - loss: 0.0017 - mean_absolute_error: 0.0252 - mean_squared_error: 0.0017 - mean_absolute_percentage_error: 12.5939 - val_loss: 0.0078 - val_mean_absolute_error: 0.0686 - val_mean_squared_error: 0.0078 - val_mean_absolute_percentage_error: 161.7935\n",
      "Epoch 36/10000\n",
      "1280/1352 [===========================>..] - ETA: 0s - loss: 0.0016 - mean_absolute_error: 0.0243 - mean_squared_error: 0.0016 - mean_absolute_percentage_error: 12.9544\n",
      "Epoch 00036: val_loss did not improve from 0.00768\n",
      "1352/1352 [==============================] - 1s 539us/step - loss: 0.0016 - mean_absolute_error: 0.0242 - mean_squared_error: 0.0016 - mean_absolute_percentage_error: 12.4773 - val_loss: 0.0078 - val_mean_absolute_error: 0.0689 - val_mean_squared_error: 0.0078 - val_mean_absolute_percentage_error: 167.6825\n",
      "Epoch 37/10000\n",
      "1280/1352 [===========================>..] - ETA: 0s - loss: 0.0014 - mean_absolute_error: 0.0234 - mean_squared_error: 0.0014 - mean_absolute_percentage_error: 7.1974  \n",
      "Epoch 00037: val_loss did not improve from 0.00768\n",
      "1352/1352 [==============================] - 1s 439us/step - loss: 0.0015 - mean_absolute_error: 0.0238 - mean_squared_error: 0.0015 - mean_absolute_percentage_error: 12.4944 - val_loss: 0.0078 - val_mean_absolute_error: 0.0687 - val_mean_squared_error: 0.0078 - val_mean_absolute_percentage_error: 166.1755\n",
      "Epoch 38/10000\n",
      "1344/1352 [============================>.] - ETA: 0s - loss: 0.0016 - mean_absolute_error: 0.0241 - mean_squared_error: 0.0016 - mean_absolute_percentage_error: 11.5986\n",
      "Epoch 00038: val_loss did not improve from 0.00768\n",
      "1352/1352 [==============================] - 1s 448us/step - loss: 0.0016 - mean_absolute_error: 0.0241 - mean_squared_error: 0.0016 - mean_absolute_percentage_error: 11.5927 - val_loss: 0.0078 - val_mean_absolute_error: 0.0680 - val_mean_squared_error: 0.0078 - val_mean_absolute_percentage_error: 160.4386\n",
      "Epoch 39/10000\n",
      "1280/1352 [===========================>..] - ETA: 0s - loss: 0.0014 - mean_absolute_error: 0.0226 - mean_squared_error: 0.0014 - mean_absolute_percentage_error: 11.6165\n",
      "Epoch 00039: val_loss did not improve from 0.00768\n",
      "1352/1352 [==============================] - 1s 465us/step - loss: 0.0015 - mean_absolute_error: 0.0229 - mean_squared_error: 0.0015 - mean_absolute_percentage_error: 11.5433 - val_loss: 0.0079 - val_mean_absolute_error: 0.0710 - val_mean_squared_error: 0.0079 - val_mean_absolute_percentage_error: 178.3034\n",
      "Epoch 40/10000\n",
      "1280/1352 [===========================>..] - ETA: 0s - loss: 0.0015 - mean_absolute_error: 0.0239 - mean_squared_error: 0.0015 - mean_absolute_percentage_error: 11.9683\n",
      "Epoch 00040: val_loss did not improve from 0.00768\n",
      "1352/1352 [==============================] - 1s 521us/step - loss: 0.0015 - mean_absolute_error: 0.0239 - mean_squared_error: 0.0015 - mean_absolute_percentage_error: 11.6688 - val_loss: 0.0081 - val_mean_absolute_error: 0.0690 - val_mean_squared_error: 0.0081 - val_mean_absolute_percentage_error: 161.8100\n",
      "Epoch 41/10000\n",
      "1344/1352 [============================>.] - ETA: 0s - loss: 0.0014 - mean_absolute_error: 0.0228 - mean_squared_error: 0.0014 - mean_absolute_percentage_error: 11.5442\n",
      "Epoch 00041: val_loss improved from 0.00768 to 0.00758, saving model to models/crude_oil_weekly_bidirlstm_model_w6_b64\n",
      "1352/1352 [==============================] - 1s 434us/step - loss: 0.0014 - mean_absolute_error: 0.0228 - mean_squared_error: 0.0014 - mean_absolute_percentage_error: 11.5117 - val_loss: 0.0076 - val_mean_absolute_error: 0.0682 - val_mean_squared_error: 0.0076 - val_mean_absolute_percentage_error: 179.9991\n",
      "Epoch 42/10000\n",
      "1280/1352 [===========================>..] - ETA: 0s - loss: 0.0015 - mean_absolute_error: 0.0262 - mean_squared_error: 0.0015 - mean_absolute_percentage_error: 12.4617\n",
      "Epoch 00042: val_loss did not improve from 0.00758\n",
      "1352/1352 [==============================] - 1s 485us/step - loss: 0.0015 - mean_absolute_error: 0.0263 - mean_squared_error: 0.0015 - mean_absolute_percentage_error: 12.1604 - val_loss: 0.0078 - val_mean_absolute_error: 0.0678 - val_mean_squared_error: 0.0078 - val_mean_absolute_percentage_error: 176.7024\n",
      "Epoch 43/10000\n",
      "1344/1352 [============================>.] - ETA: 0s - loss: 0.0014 - mean_absolute_error: 0.0226 - mean_squared_error: 0.0014 - mean_absolute_percentage_error: 11.4711\n",
      "Epoch 00043: val_loss did not improve from 0.00758\n",
      "1352/1352 [==============================] - 1s 502us/step - loss: 0.0014 - mean_absolute_error: 0.0227 - mean_squared_error: 0.0014 - mean_absolute_percentage_error: 11.6677 - val_loss: 0.0077 - val_mean_absolute_error: 0.0705 - val_mean_squared_error: 0.0077 - val_mean_absolute_percentage_error: 183.5505\n",
      "Epoch 44/10000\n",
      "1280/1352 [===========================>..] - ETA: 0s - loss: 0.0015 - mean_absolute_error: 0.0250 - mean_squared_error: 0.0015 - mean_absolute_percentage_error: 11.2798\n",
      "Epoch 00044: val_loss improved from 0.00758 to 0.00744, saving model to models/crude_oil_weekly_bidirlstm_model_w6_b64\n",
      "1352/1352 [==============================] - 1s 469us/step - loss: 0.0014 - mean_absolute_error: 0.0249 - mean_squared_error: 0.0014 - mean_absolute_percentage_error: 11.2067 - val_loss: 0.0074 - val_mean_absolute_error: 0.0676 - val_mean_squared_error: 0.0074 - val_mean_absolute_percentage_error: 182.0856\n"
     ]
    },
    {
     "name": "stdout",
     "output_type": "stream",
     "text": [
      "Epoch 45/10000\n",
      "1344/1352 [============================>.] - ETA: 0s - loss: 0.0013 - mean_absolute_error: 0.0228 - mean_squared_error: 0.0013 - mean_absolute_percentage_error: 10.9914\n",
      "Epoch 00045: val_loss improved from 0.00744 to 0.00731, saving model to models/crude_oil_weekly_bidirlstm_model_w6_b64\n",
      "1352/1352 [==============================] - 1s 454us/step - loss: 0.0013 - mean_absolute_error: 0.0230 - mean_squared_error: 0.0013 - mean_absolute_percentage_error: 11.2243 - val_loss: 0.0073 - val_mean_absolute_error: 0.0674 - val_mean_squared_error: 0.0073 - val_mean_absolute_percentage_error: 187.8391\n",
      "Epoch 46/10000\n",
      "1344/1352 [============================>.] - ETA: 0s - loss: 0.0013 - mean_absolute_error: 0.0222 - mean_squared_error: 0.0013 - mean_absolute_percentage_error: 10.9795\n",
      "Epoch 00046: val_loss did not improve from 0.00731\n",
      "1352/1352 [==============================] - 1s 453us/step - loss: 0.0013 - mean_absolute_error: 0.0222 - mean_squared_error: 0.0013 - mean_absolute_percentage_error: 10.9314 - val_loss: 0.0076 - val_mean_absolute_error: 0.0672 - val_mean_squared_error: 0.0076 - val_mean_absolute_percentage_error: 181.3642\n",
      "Epoch 47/10000\n",
      "1344/1352 [============================>.] - ETA: 0s - loss: 0.0013 - mean_absolute_error: 0.0225 - mean_squared_error: 0.0013 - mean_absolute_percentage_error: 10.7354\n",
      "Epoch 00047: val_loss did not improve from 0.00731\n",
      "1352/1352 [==============================] - 1s 424us/step - loss: 0.0013 - mean_absolute_error: 0.0224 - mean_squared_error: 0.0013 - mean_absolute_percentage_error: 10.6802 - val_loss: 0.0077 - val_mean_absolute_error: 0.0714 - val_mean_squared_error: 0.0077 - val_mean_absolute_percentage_error: 206.4520\n",
      "Epoch 48/10000\n",
      "1280/1352 [===========================>..] - ETA: 0s - loss: 0.0012 - mean_absolute_error: 0.0214 - mean_squared_error: 0.0012 - mean_absolute_percentage_error: 6.3242\n",
      "Epoch 00048: val_loss improved from 0.00731 to 0.00730, saving model to models/crude_oil_weekly_bidirlstm_model_w6_b64\n",
      "1352/1352 [==============================] - 1s 469us/step - loss: 0.0013 - mean_absolute_error: 0.0219 - mean_squared_error: 0.0013 - mean_absolute_percentage_error: 11.1884 - val_loss: 0.0073 - val_mean_absolute_error: 0.0676 - val_mean_squared_error: 0.0073 - val_mean_absolute_percentage_error: 196.2995\n",
      "Epoch 49/10000\n",
      "1280/1352 [===========================>..] - ETA: 0s - loss: 0.0012 - mean_absolute_error: 0.0221 - mean_squared_error: 0.0012 - mean_absolute_percentage_error: 11.2524\n",
      "Epoch 00049: val_loss improved from 0.00730 to 0.00706, saving model to models/crude_oil_weekly_bidirlstm_model_w6_b64\n",
      "1352/1352 [==============================] - 1s 452us/step - loss: 0.0012 - mean_absolute_error: 0.0221 - mean_squared_error: 0.0012 - mean_absolute_percentage_error: 10.9374 - val_loss: 0.0071 - val_mean_absolute_error: 0.0653 - val_mean_squared_error: 0.0071 - val_mean_absolute_percentage_error: 195.4704\n",
      "Epoch 50/10000\n",
      "1344/1352 [============================>.] - ETA: 0s - loss: 0.0012 - mean_absolute_error: 0.0216 - mean_squared_error: 0.0012 - mean_absolute_percentage_error: 10.7320\n",
      "Epoch 00050: val_loss improved from 0.00706 to 0.00670, saving model to models/crude_oil_weekly_bidirlstm_model_w6_b64\n",
      "1352/1352 [==============================] - 1s 434us/step - loss: 0.0012 - mean_absolute_error: 0.0216 - mean_squared_error: 0.0012 - mean_absolute_percentage_error: 10.7280 - val_loss: 0.0067 - val_mean_absolute_error: 0.0653 - val_mean_squared_error: 0.0067 - val_mean_absolute_percentage_error: 216.8102\n",
      "Epoch 51/10000\n",
      "1344/1352 [============================>.] - ETA: 0s - loss: 0.0012 - mean_absolute_error: 0.0222 - mean_squared_error: 0.0012 - mean_absolute_percentage_error: 10.5404\n",
      "Epoch 00051: val_loss did not improve from 0.00670\n",
      "1352/1352 [==============================] - 1s 423us/step - loss: 0.0012 - mean_absolute_error: 0.0222 - mean_squared_error: 0.0012 - mean_absolute_percentage_error: 10.5016 - val_loss: 0.0069 - val_mean_absolute_error: 0.0663 - val_mean_squared_error: 0.0069 - val_mean_absolute_percentage_error: 209.7932\n",
      "Epoch 52/10000\n",
      "1280/1352 [===========================>..] - ETA: 0s - loss: 0.0012 - mean_absolute_error: 0.0220 - mean_squared_error: 0.0012 - mean_absolute_percentage_error: 10.4425\n",
      "Epoch 00052: val_loss did not improve from 0.00670\n",
      "1352/1352 [==============================] - 1s 431us/step - loss: 0.0012 - mean_absolute_error: 0.0219 - mean_squared_error: 0.0012 - mean_absolute_percentage_error: 10.1723 - val_loss: 0.0072 - val_mean_absolute_error: 0.0658 - val_mean_squared_error: 0.0072 - val_mean_absolute_percentage_error: 197.9945\n",
      "Epoch 53/10000\n",
      "1344/1352 [============================>.] - ETA: 0s - loss: 0.0011 - mean_absolute_error: 0.0219 - mean_squared_error: 0.0011 - mean_absolute_percentage_error: 10.5186\n",
      "Epoch 00053: val_loss did not improve from 0.00670\n",
      "1352/1352 [==============================] - 1s 419us/step - loss: 0.0011 - mean_absolute_error: 0.0218 - mean_squared_error: 0.0011 - mean_absolute_percentage_error: 10.4730 - val_loss: 0.0078 - val_mean_absolute_error: 0.0678 - val_mean_squared_error: 0.0078 - val_mean_absolute_percentage_error: 182.4873\n",
      "Epoch 54/10000\n",
      "1280/1352 [===========================>..] - ETA: 0s - loss: 0.0012 - mean_absolute_error: 0.0216 - mean_squared_error: 0.0012 - mean_absolute_percentage_error: 10.4180\n",
      "Epoch 00054: val_loss did not improve from 0.00670\n",
      "1352/1352 [==============================] - 1s 432us/step - loss: 0.0011 - mean_absolute_error: 0.0215 - mean_squared_error: 0.0011 - mean_absolute_percentage_error: 10.2137 - val_loss: 0.0072 - val_mean_absolute_error: 0.0675 - val_mean_squared_error: 0.0072 - val_mean_absolute_percentage_error: 205.6500\n",
      "Epoch 55/10000\n",
      "1344/1352 [============================>.] - ETA: 0s - loss: 0.0012 - mean_absolute_error: 0.0222 - mean_squared_error: 0.0012 - mean_absolute_percentage_error: 10.3598\n",
      "Epoch 00055: val_loss did not improve from 0.00670\n",
      "1352/1352 [==============================] - 1s 433us/step - loss: 0.0011 - mean_absolute_error: 0.0221 - mean_squared_error: 0.0011 - mean_absolute_percentage_error: 10.3131 - val_loss: 0.0071 - val_mean_absolute_error: 0.0667 - val_mean_squared_error: 0.0071 - val_mean_absolute_percentage_error: 204.0271\n",
      "Epoch 56/10000\n",
      "1216/1352 [=========================>....] - ETA: 0s - loss: 9.7831e-04 - mean_absolute_error: 0.0201 - mean_squared_error: 9.7831e-04 - mean_absolute_percentage_error: 5.5504\n",
      "Epoch 00056: val_loss did not improve from 0.00670\n",
      "1352/1352 [==============================] - 1s 425us/step - loss: 0.0011 - mean_absolute_error: 0.0205 - mean_squared_error: 0.0011 - mean_absolute_percentage_error: 9.6508 - val_loss: 0.0070 - val_mean_absolute_error: 0.0667 - val_mean_squared_error: 0.0070 - val_mean_absolute_percentage_error: 213.1625\n",
      "Epoch 57/10000\n",
      "1344/1352 [============================>.] - ETA: 0s - loss: 0.0011 - mean_absolute_error: 0.0211 - mean_squared_error: 0.0011 - mean_absolute_percentage_error: 10.2352 \n",
      "Epoch 00057: val_loss did not improve from 0.00670\n",
      "1352/1352 [==============================] - 1s 410us/step - loss: 0.0011 - mean_absolute_error: 0.0211 - mean_squared_error: 0.0011 - mean_absolute_percentage_error: 10.2081 - val_loss: 0.0068 - val_mean_absolute_error: 0.0644 - val_mean_squared_error: 0.0068 - val_mean_absolute_percentage_error: 221.0000\n",
      "Epoch 58/10000\n",
      "1280/1352 [===========================>..] - ETA: 0s - loss: 0.0012 - mean_absolute_error: 0.0231 - mean_squared_error: 0.0012 - mean_absolute_percentage_error: 10.6411\n",
      "Epoch 00058: val_loss did not improve from 0.00670\n",
      "1352/1352 [==============================] - 1s 433us/step - loss: 0.0012 - mean_absolute_error: 0.0230 - mean_squared_error: 0.0012 - mean_absolute_percentage_error: 10.4070 - val_loss: 0.0068 - val_mean_absolute_error: 0.0637 - val_mean_squared_error: 0.0068 - val_mean_absolute_percentage_error: 216.6516\n",
      "Epoch 59/10000\n",
      "1344/1352 [============================>.] - ETA: 0s - loss: 0.0011 - mean_absolute_error: 0.0214 - mean_squared_error: 0.0011 - mean_absolute_percentage_error: 9.7492 \n",
      "Epoch 00059: val_loss did not improve from 0.00670\n",
      "1352/1352 [==============================] - 1s 422us/step - loss: 0.0011 - mean_absolute_error: 0.0214 - mean_squared_error: 0.0011 - mean_absolute_percentage_error: 9.7215 - val_loss: 0.0069 - val_mean_absolute_error: 0.0639 - val_mean_squared_error: 0.0069 - val_mean_absolute_percentage_error: 211.4740\n"
     ]
    },
    {
     "name": "stdout",
     "output_type": "stream",
     "text": [
      "Epoch 60/10000\n",
      "1216/1352 [=========================>....] - ETA: 0s - loss: 0.0010 - mean_absolute_error: 0.0203 - mean_squared_error: 0.0010 - mean_absolute_percentage_error: 9.6700 \n",
      "Epoch 00060: val_loss did not improve from 0.00670\n",
      "1352/1352 [==============================] - 1s 396us/step - loss: 0.0010 - mean_absolute_error: 0.0202 - mean_squared_error: 0.0010 - mean_absolute_percentage_error: 9.4143 - val_loss: 0.0070 - val_mean_absolute_error: 0.0649 - val_mean_squared_error: 0.0070 - val_mean_absolute_percentage_error: 218.7763\n",
      "Epoch 61/10000\n",
      "1344/1352 [============================>.] - ETA: 0s - loss: 0.0010 - mean_absolute_error: 0.0213 - mean_squared_error: 0.0010 - mean_absolute_percentage_error: 10.0740\n",
      "Epoch 00061: val_loss did not improve from 0.00670\n",
      "1352/1352 [==============================] - 1s 421us/step - loss: 0.0010 - mean_absolute_error: 0.0213 - mean_squared_error: 0.0010 - mean_absolute_percentage_error: 10.0302 - val_loss: 0.0068 - val_mean_absolute_error: 0.0648 - val_mean_squared_error: 0.0068 - val_mean_absolute_percentage_error: 223.1603\n",
      "Epoch 62/10000\n",
      "1216/1352 [=========================>....] - ETA: 0s - loss: 0.0011 - mean_absolute_error: 0.0208 - mean_squared_error: 0.0011 - mean_absolute_percentage_error: 10.3151   \n",
      "Epoch 00062: val_loss did not improve from 0.00670\n",
      "1352/1352 [==============================] - 1s 427us/step - loss: 0.0011 - mean_absolute_error: 0.0210 - mean_squared_error: 0.0011 - mean_absolute_percentage_error: 10.0627 - val_loss: 0.0071 - val_mean_absolute_error: 0.0686 - val_mean_squared_error: 0.0071 - val_mean_absolute_percentage_error: 235.6182\n",
      "Epoch 63/10000\n",
      "1280/1352 [===========================>..] - ETA: 0s - loss: 0.0010 - mean_absolute_error: 0.0200 - mean_squared_error: 0.0010 - mean_absolute_percentage_error: 9.1956      \n",
      "Epoch 00063: val_loss improved from 0.00670 to 0.00666, saving model to models/crude_oil_weekly_bidirlstm_model_w6_b64\n",
      "1352/1352 [==============================] - 1s 475us/step - loss: 0.0010 - mean_absolute_error: 0.0202 - mean_squared_error: 0.0010 - mean_absolute_percentage_error: 9.1347 - val_loss: 0.0067 - val_mean_absolute_error: 0.0654 - val_mean_squared_error: 0.0067 - val_mean_absolute_percentage_error: 231.2504\n",
      "Epoch 64/10000\n",
      "1280/1352 [===========================>..] - ETA: 0s - loss: 0.0010 - mean_absolute_error: 0.0214 - mean_squared_error: 0.0010 - mean_absolute_percentage_error: 9.3197\n",
      "Epoch 00064: val_loss improved from 0.00666 to 0.00646, saving model to models/crude_oil_weekly_bidirlstm_model_w6_b64\n",
      "1352/1352 [==============================] - 1s 457us/step - loss: 0.0010 - mean_absolute_error: 0.0216 - mean_squared_error: 0.0010 - mean_absolute_percentage_error: 9.1425 - val_loss: 0.0065 - val_mean_absolute_error: 0.0633 - val_mean_squared_error: 0.0065 - val_mean_absolute_percentage_error: 233.7257\n",
      "Epoch 65/10000\n",
      "1216/1352 [=========================>....] - ETA: 0s - loss: 0.0010 - mean_absolute_error: 0.0211 - mean_squared_error: 0.0010 - mean_absolute_percentage_error: 5.8584       \n",
      "Epoch 00065: val_loss did not improve from 0.00646\n",
      "1352/1352 [==============================] - 1s 433us/step - loss: 0.0010 - mean_absolute_error: 0.0210 - mean_squared_error: 0.0010 - mean_absolute_percentage_error: 9.2746 - val_loss: 0.0065 - val_mean_absolute_error: 0.0648 - val_mean_squared_error: 0.0065 - val_mean_absolute_percentage_error: 248.5945\n",
      "Epoch 66/10000\n",
      "1216/1352 [=========================>....] - ETA: 0s - loss: 0.0011 - mean_absolute_error: 0.0208 - mean_squared_error: 0.0011 - mean_absolute_percentage_error: 10.1745       \n",
      "Epoch 00066: val_loss did not improve from 0.00646\n",
      "1352/1352 [==============================] - 1s 408us/step - loss: 0.0010 - mean_absolute_error: 0.0204 - mean_squared_error: 0.0010 - mean_absolute_percentage_error: 9.5369 - val_loss: 0.0065 - val_mean_absolute_error: 0.0649 - val_mean_squared_error: 0.0065 - val_mean_absolute_percentage_error: 244.4740\n",
      "Epoch 67/10000\n",
      "1280/1352 [===========================>..] - ETA: 0s - loss: 0.0010 - mean_absolute_error: 0.0216 - mean_squared_error: 0.0010 - mean_absolute_percentage_error: 9.4278\n",
      "Epoch 00067: val_loss did not improve from 0.00646\n",
      "1352/1352 [==============================] - 1s 418us/step - loss: 0.0010 - mean_absolute_error: 0.0214 - mean_squared_error: 0.0010 - mean_absolute_percentage_error: 9.1265 - val_loss: 0.0065 - val_mean_absolute_error: 0.0643 - val_mean_squared_error: 0.0065 - val_mean_absolute_percentage_error: 240.1030\n",
      "Epoch 68/10000\n",
      "1344/1352 [============================>.] - ETA: 0s - loss: 9.9607e-04 - mean_absolute_error: 0.0204 - mean_squared_error: 9.9607e-04 - mean_absolute_percentage_error: 8.7019\n",
      "Epoch 00068: val_loss did not improve from 0.00646\n",
      "1352/1352 [==============================] - 1s 406us/step - loss: 9.9253e-04 - mean_absolute_error: 0.0203 - mean_squared_error: 9.9253e-04 - mean_absolute_percentage_error: 8.6723 - val_loss: 0.0081 - val_mean_absolute_error: 0.0677 - val_mean_squared_error: 0.0081 - val_mean_absolute_percentage_error: 224.5584\n",
      "Epoch 69/10000\n",
      "1280/1352 [===========================>..] - ETA: 0s - loss: 9.3152e-04 - mean_absolute_error: 0.0198 - mean_squared_error: 9.3152e-04 - mean_absolute_percentage_error: 5.2594\n",
      "Epoch 00069: val_loss did not improve from 0.00646\n",
      "1352/1352 [==============================] - 1s 417us/step - loss: 0.0010 - mean_absolute_error: 0.0202 - mean_squared_error: 0.0010 - mean_absolute_percentage_error: 9.1977 - val_loss: 0.0065 - val_mean_absolute_error: 0.0640 - val_mean_squared_error: 0.0065 - val_mean_absolute_percentage_error: 244.4860\n",
      "Epoch 70/10000\n",
      "1280/1352 [===========================>..] - ETA: 0s - loss: 0.0011 - mean_absolute_error: 0.0233 - mean_squared_error: 0.0011 - mean_absolute_percentage_error: 9.7195 \n",
      "Epoch 00070: val_loss improved from 0.00646 to 0.00558, saving model to models/crude_oil_weekly_bidirlstm_model_w6_b64\n",
      "1352/1352 [==============================] - 1s 458us/step - loss: 0.0011 - mean_absolute_error: 0.0231 - mean_squared_error: 0.0011 - mean_absolute_percentage_error: 9.6750 - val_loss: 0.0056 - val_mean_absolute_error: 0.0587 - val_mean_squared_error: 0.0056 - val_mean_absolute_percentage_error: 276.9370\n",
      "Epoch 71/10000\n",
      "1280/1352 [===========================>..] - ETA: 0s - loss: 0.0011 - mean_absolute_error: 0.0221 - mean_squared_error: 0.0011 - mean_absolute_percentage_error: 9.2824      \n",
      "Epoch 00071: val_loss did not improve from 0.00558\n",
      "1352/1352 [==============================] - 1s 439us/step - loss: 0.0011 - mean_absolute_error: 0.0220 - mean_squared_error: 0.0011 - mean_absolute_percentage_error: 9.0624 - val_loss: 0.0062 - val_mean_absolute_error: 0.0627 - val_mean_squared_error: 0.0062 - val_mean_absolute_percentage_error: 253.0507\n",
      "Epoch 72/10000\n",
      "1280/1352 [===========================>..] - ETA: 0s - loss: 0.0011 - mean_absolute_error: 0.0219 - mean_squared_error: 0.0011 - mean_absolute_percentage_error: 9.4455 \n",
      "Epoch 00072: val_loss did not improve from 0.00558\n",
      "1352/1352 [==============================] - 1s 449us/step - loss: 0.0011 - mean_absolute_error: 0.0219 - mean_squared_error: 0.0011 - mean_absolute_percentage_error: 9.3003 - val_loss: 0.0063 - val_mean_absolute_error: 0.0625 - val_mean_squared_error: 0.0063 - val_mean_absolute_percentage_error: 251.8319\n",
      "Epoch 73/10000\n",
      "1344/1352 [============================>.] - ETA: 0s - loss: 0.0010 - mean_absolute_error: 0.0209 - mean_squared_error: 0.0010 - mean_absolute_percentage_error: 9.2588\n",
      "Epoch 00073: val_loss did not improve from 0.00558\n",
      "1352/1352 [==============================] - 1s 426us/step - loss: 0.0010 - mean_absolute_error: 0.0210 - mean_squared_error: 0.0010 - mean_absolute_percentage_error: 9.2321 - val_loss: 0.0064 - val_mean_absolute_error: 0.0624 - val_mean_squared_error: 0.0064 - val_mean_absolute_percentage_error: 243.2933\n",
      "Epoch 74/10000\n",
      "1344/1352 [============================>.] - ETA: 0s - loss: 0.0012 - mean_absolute_error: 0.0222 - mean_squared_error: 0.0012 - mean_absolute_percentage_error: 9.6344 \n",
      "Epoch 00074: val_loss did not improve from 0.00558\n",
      "1352/1352 [==============================] - 1s 422us/step - loss: 0.0012 - mean_absolute_error: 0.0222 - mean_squared_error: 0.0012 - mean_absolute_percentage_error: 9.6399 - val_loss: 0.0063 - val_mean_absolute_error: 0.0604 - val_mean_squared_error: 0.0063 - val_mean_absolute_percentage_error: 243.6653\n"
     ]
    },
    {
     "name": "stdout",
     "output_type": "stream",
     "text": [
      "Epoch 75/10000\n",
      "1280/1352 [===========================>..] - ETA: 0s - loss: 9.6274e-04 - mean_absolute_error: 0.0202 - mean_squared_error: 9.6274e-04 - mean_absolute_percentage_error: 9.2935\n",
      "Epoch 00075: val_loss did not improve from 0.00558\n",
      "1352/1352 [==============================] - 1s 431us/step - loss: 9.7342e-04 - mean_absolute_error: 0.0202 - mean_squared_error: 9.7342e-04 - mean_absolute_percentage_error: 9.0420 - val_loss: 0.0058 - val_mean_absolute_error: 0.0597 - val_mean_squared_error: 0.0058 - val_mean_absolute_percentage_error: 251.9066\n",
      "Epoch 76/10000\n",
      "1344/1352 [============================>.] - ETA: 0s - loss: 9.4744e-04 - mean_absolute_error: 0.0198 - mean_squared_error: 9.4744e-04 - mean_absolute_percentage_error: 9.0862\n",
      "Epoch 00076: val_loss did not improve from 0.00558\n",
      "1352/1352 [==============================] - 1s 421us/step - loss: 9.4312e-04 - mean_absolute_error: 0.0198 - mean_squared_error: 9.4312e-04 - mean_absolute_percentage_error: 9.0638 - val_loss: 0.0059 - val_mean_absolute_error: 0.0612 - val_mean_squared_error: 0.0059 - val_mean_absolute_percentage_error: 253.1228\n",
      "Epoch 77/10000\n",
      "1344/1352 [============================>.] - ETA: 0s - loss: 9.3581e-04 - mean_absolute_error: 0.0199 - mean_squared_error: 9.3581e-04 - mean_absolute_percentage_error: 8.7896\n",
      "Epoch 00077: val_loss did not improve from 0.00558\n",
      "1352/1352 [==============================] - 1s 412us/step - loss: 9.3082e-04 - mean_absolute_error: 0.0198 - mean_squared_error: 9.3082e-04 - mean_absolute_percentage_error: 8.7590 - val_loss: 0.0057 - val_mean_absolute_error: 0.0591 - val_mean_squared_error: 0.0057 - val_mean_absolute_percentage_error: 258.2961\n",
      "Epoch 78/10000\n",
      "1344/1352 [============================>.] - ETA: 0s - loss: 0.0010 - mean_absolute_error: 0.0206 - mean_squared_error: 0.0010 - mean_absolute_percentage_error: 10.1236\n",
      "Epoch 00078: val_loss did not improve from 0.00558\n",
      "1352/1352 [==============================] - 1s 420us/step - loss: 0.0010 - mean_absolute_error: 0.0206 - mean_squared_error: 0.0010 - mean_absolute_percentage_error: 10.0789 - val_loss: 0.0058 - val_mean_absolute_error: 0.0606 - val_mean_squared_error: 0.0058 - val_mean_absolute_percentage_error: 268.3610\n",
      "Epoch 79/10000\n",
      "1344/1352 [============================>.] - ETA: 0s - loss: 9.7993e-04 - mean_absolute_error: 0.0204 - mean_squared_error: 9.7993e-04 - mean_absolute_percentage_error: 9.1894\n",
      "Epoch 00079: val_loss did not improve from 0.00558\n",
      "1352/1352 [==============================] - 1s 422us/step - loss: 9.7568e-04 - mean_absolute_error: 0.0204 - mean_squared_error: 9.7568e-04 - mean_absolute_percentage_error: 9.1457 - val_loss: 0.0061 - val_mean_absolute_error: 0.0628 - val_mean_squared_error: 0.0061 - val_mean_absolute_percentage_error: 272.7692\n",
      "Epoch 80/10000\n",
      "1344/1352 [============================>.] - ETA: 0s - loss: 9.2444e-04 - mean_absolute_error: 0.0195 - mean_squared_error: 9.2444e-04 - mean_absolute_percentage_error: 8.7896\n",
      "Epoch 00080: val_loss did not improve from 0.00558\n",
      "1352/1352 [==============================] - 1s 419us/step - loss: 9.2092e-04 - mean_absolute_error: 0.0195 - mean_squared_error: 9.2092e-04 - mean_absolute_percentage_error: 8.7499 - val_loss: 0.0060 - val_mean_absolute_error: 0.0618 - val_mean_squared_error: 0.0060 - val_mean_absolute_percentage_error: 261.0255\n",
      "Epoch 81/10000\n",
      "1216/1352 [=========================>....] - ETA: 0s - loss: 9.2583e-04 - mean_absolute_error: 0.0194 - mean_squared_error: 9.2583e-04 - mean_absolute_percentage_error: 9.7341 \n",
      "Epoch 00081: val_loss did not improve from 0.00558\n",
      "1352/1352 [==============================] - 1s 439us/step - loss: 9.3224e-04 - mean_absolute_error: 0.0196 - mean_squared_error: 9.3224e-04 - mean_absolute_percentage_error: 9.2609 - val_loss: 0.0058 - val_mean_absolute_error: 0.0599 - val_mean_squared_error: 0.0058 - val_mean_absolute_percentage_error: 263.5696\n",
      "Epoch 82/10000\n",
      "1280/1352 [===========================>..] - ETA: 0s - loss: 9.4338e-04 - mean_absolute_error: 0.0199 - mean_squared_error: 9.4338e-04 - mean_absolute_percentage_error: 9.0357\n",
      "Epoch 00082: val_loss did not improve from 0.00558\n",
      "1352/1352 [==============================] - 1s 450us/step - loss: 9.2620e-04 - mean_absolute_error: 0.0198 - mean_squared_error: 9.2620e-04 - mean_absolute_percentage_error: 8.7560 - val_loss: 0.0060 - val_mean_absolute_error: 0.0590 - val_mean_squared_error: 0.0060 - val_mean_absolute_percentage_error: 260.9180\n",
      "Epoch 83/10000\n",
      "1280/1352 [===========================>..] - ETA: 0s - loss: 0.0010 - mean_absolute_error: 0.0220 - mean_squared_error: 0.0010 - mean_absolute_percentage_error: 9.5352         \n",
      "Epoch 00083: val_loss did not improve from 0.00558\n",
      "1352/1352 [==============================] - 1s 453us/step - loss: 0.0010 - mean_absolute_error: 0.0220 - mean_squared_error: 0.0010 - mean_absolute_percentage_error: 9.2993 - val_loss: 0.0062 - val_mean_absolute_error: 0.0637 - val_mean_squared_error: 0.0062 - val_mean_absolute_percentage_error: 293.9307\n",
      "Epoch 84/10000\n",
      "1216/1352 [=========================>....] - ETA: 0s - loss: 0.0011 - mean_absolute_error: 0.0221 - mean_squared_error: 0.0011 - mean_absolute_percentage_error: 9.1935 \n",
      "Epoch 00084: val_loss did not improve from 0.00558\n",
      "1352/1352 [==============================] - 1s 438us/step - loss: 0.0011 - mean_absolute_error: 0.0218 - mean_squared_error: 0.0011 - mean_absolute_percentage_error: 8.6898 - val_loss: 0.0057 - val_mean_absolute_error: 0.0601 - val_mean_squared_error: 0.0057 - val_mean_absolute_percentage_error: 266.8683\n",
      "Epoch 85/10000\n",
      "1216/1352 [=========================>....] - ETA: 0s - loss: 9.6658e-04 - mean_absolute_error: 0.0207 - mean_squared_error: 9.6658e-04 - mean_absolute_percentage_error: 9.7154 \n",
      "Epoch 00085: val_loss did not improve from 0.00558\n",
      "1352/1352 [==============================] - 1s 417us/step - loss: 9.6868e-04 - mean_absolute_error: 0.0210 - mean_squared_error: 9.6868e-04 - mean_absolute_percentage_error: 9.2527 - val_loss: 0.0063 - val_mean_absolute_error: 0.0600 - val_mean_squared_error: 0.0063 - val_mean_absolute_percentage_error: 250.7528\n",
      "Epoch 86/10000\n",
      "1216/1352 [=========================>....] - ETA: 0s - loss: 9.5960e-04 - mean_absolute_error: 0.0201 - mean_squared_error: 9.5960e-04 - mean_absolute_percentage_error: 9.1971\n",
      "Epoch 00086: val_loss did not improve from 0.00558\n",
      "1352/1352 [==============================] - 1s 412us/step - loss: 9.3418e-04 - mean_absolute_error: 0.0199 - mean_squared_error: 9.3418e-04 - mean_absolute_percentage_error: 8.8651 - val_loss: 0.0060 - val_mean_absolute_error: 0.0595 - val_mean_squared_error: 0.0060 - val_mean_absolute_percentage_error: 258.3246\n",
      "Epoch 87/10000\n",
      "1280/1352 [===========================>..] - ETA: 0s - loss: 0.0010 - mean_absolute_error: 0.0204 - mean_squared_error: 0.0010 - mean_absolute_percentage_error: 9.9100       \n",
      "Epoch 00087: val_loss did not improve from 0.00558\n",
      "1352/1352 [==============================] - 1s 423us/step - loss: 0.0010 - mean_absolute_error: 0.0204 - mean_squared_error: 0.0010 - mean_absolute_percentage_error: 9.5483 - val_loss: 0.0058 - val_mean_absolute_error: 0.0586 - val_mean_squared_error: 0.0058 - val_mean_absolute_percentage_error: 262.8767\n",
      "Epoch 88/10000\n",
      "1216/1352 [=========================>....] - ETA: 0s - loss: 9.7118e-04 - mean_absolute_error: 0.0202 - mean_squared_error: 9.7118e-04 - mean_absolute_percentage_error: 9.9026\n",
      "Epoch 00088: val_loss did not improve from 0.00558\n",
      "1352/1352 [==============================] - 1s 418us/step - loss: 9.5137e-04 - mean_absolute_error: 0.0201 - mean_squared_error: 9.5137e-04 - mean_absolute_percentage_error: 9.4156 - val_loss: 0.0056 - val_mean_absolute_error: 0.0584 - val_mean_squared_error: 0.0056 - val_mean_absolute_percentage_error: 258.9312\n",
      "Epoch 89/10000\n",
      "1344/1352 [============================>.] - ETA: 0s - loss: 9.4900e-04 - mean_absolute_error: 0.0203 - mean_squared_error: 9.4900e-04 - mean_absolute_percentage_error: 8.9600\n",
      "Epoch 00089: val_loss did not improve from 0.00558\n",
      "1352/1352 [==============================] - 1s 427us/step - loss: 9.6120e-04 - mean_absolute_error: 0.0204 - mean_squared_error: 9.6120e-04 - mean_absolute_percentage_error: 8.9476 - val_loss: 0.0060 - val_mean_absolute_error: 0.0619 - val_mean_squared_error: 0.0060 - val_mean_absolute_percentage_error: 265.0046\n"
     ]
    },
    {
     "name": "stdout",
     "output_type": "stream",
     "text": [
      "Epoch 90/10000\n",
      "1280/1352 [===========================>..] - ETA: 0s - loss: 9.6825e-04 - mean_absolute_error: 0.0204 - mean_squared_error: 9.6825e-04 - mean_absolute_percentage_error: 9.0771\n",
      "Epoch 00090: val_loss did not improve from 0.00558\n",
      "1352/1352 [==============================] - 1s 445us/step - loss: 9.3860e-04 - mean_absolute_error: 0.0201 - mean_squared_error: 9.3860e-04 - mean_absolute_percentage_error: 8.8012 - val_loss: 0.0059 - val_mean_absolute_error: 0.0590 - val_mean_squared_error: 0.0059 - val_mean_absolute_percentage_error: 257.0816\n"
     ]
    }
   ],
   "source": [
    "history = model.fit(X_train, Y_train, \n",
    "                    epochs = epochs,  batch_size = b, \n",
    "                    verbose=verbose, validation_data=(X_val, Y_val), validation_split=0.8, callbacks=callbacks)"
   ]
  },
  {
   "cell_type": "code",
   "execution_count": 22,
   "metadata": {
    "colab": {
     "base_uri": "https://localhost:8080/",
     "height": 72
    },
    "colab_type": "code",
    "id": "KKlHgsmlMV3V",
    "outputId": "8de7c430-6c78-4866-8611-234eee2a6743"
   },
   "outputs": [
    {
     "name": "stdout",
     "output_type": "stream",
     "text": [
      "339/339 [==============================] - 0s 1ms/step\n"
     ]
    },
    {
     "data": {
      "text/plain": [
       "[0.005881926608010906,\n",
       " 0.059045757823637454,\n",
       " 0.005881926608010906,\n",
       " 257.0816363106787]"
      ]
     },
     "execution_count": 22,
     "metadata": {},
     "output_type": "execute_result"
    }
   ],
   "source": [
    "model.evaluate(X_val, Y_val)"
   ]
  },
  {
   "cell_type": "code",
   "execution_count": 23,
   "metadata": {
    "colab": {
     "base_uri": "https://localhost:8080/",
     "height": 34
    },
    "colab_type": "code",
    "id": "N_AugGryMext",
    "outputId": "0fd13d62-90a1-4e52-87c1-8e4582f06491"
   },
   "outputs": [
    {
     "data": {
      "text/plain": [
       "array([[-0.3638027]], dtype=float32)"
      ]
     },
     "execution_count": 23,
     "metadata": {},
     "output_type": "execute_result"
    }
   ],
   "source": [
    "i = 0\n",
    "t = X_val[i].reshape(1, X_val[i].shape[0], X_val[i].shape[1])\n",
    "model.predict(t)"
   ]
  },
  {
   "cell_type": "code",
   "execution_count": 24,
   "metadata": {
    "colab": {
     "base_uri": "https://localhost:8080/",
     "height": 640
    },
    "colab_type": "code",
    "id": "Ao9EZU3AMg0t",
    "outputId": "8a750b30-3c89-4031-c75b-15b20b1009ee"
   },
   "outputs": [
    {
     "data": {
      "image/png": "[encoded data removed]",
      "text/plain": [
       "<Figure size 432x288 with 3 Axes>"
      ]
     },
     "metadata": {
      "needs_background": "light"
     },
     "output_type": "display_data"
    }
   ],
   "source": [
    "plot_prediction(Y_val, model.predict(X_val))"
   ]
  },
  {
   "cell_type": "markdown",
   "metadata": {
    "colab_type": "text",
    "id": "_-c1zyNDQJoh"
   },
   "source": [
    "## Test"
   ]
  },
  {
   "cell_type": "code",
   "execution_count": 25,
   "metadata": {
    "colab": {},
    "colab_type": "code",
    "id": "6bcH1-RCQJHx"
   },
   "outputs": [],
   "source": [
    "norm_test_weekly_prices = minmax_norm(test_weekly_prices, a=-1, b=1)\n",
    "norm_test_weekly_volumes = minmax_norm(test_weekly_volumes, a=-1, b=1)"
   ]
  },
  {
   "cell_type": "markdown",
   "metadata": {
    "colab_type": "text",
    "id": "P46hDnXWUK7I"
   },
   "source": [
    "### NOT normalized"
   ]
  },
  {
   "cell_type": "code",
   "execution_count": 26,
   "metadata": {
    "colab": {
     "base_uri": "https://localhost:8080/"
    },
    "colab_type": "code",
    "id": "JfZOHudmUJAB",
    "outputId": "248ee7dd-312a-472e-acf8-f855d4b76f31"
   },
   "outputs": [
    {
     "name": "stdout",
     "output_type": "stream",
     "text": [
      "index 189 is out of bounds for axis 0 with size 189\n",
      "index 189 is out of bounds for axis 0 with size 189\n",
      "index 189 is out of bounds for axis 0 with size 189\n"
     ]
    }
   ],
   "source": [
    "#normalized d_list\n",
    "d_list = [test_weekly_prices, test_weekly_volumes]\n",
    "windows = [6,8,12]\n",
    "test_data_dict = get_data_chunks(d_list, windows)"
   ]
  },
  {
   "cell_type": "markdown",
   "metadata": {
    "colab_type": "text",
    "id": "8_2vYH3CUNJF"
   },
   "source": [
    "### Normalized"
   ]
  },
  {
   "cell_type": "code",
   "execution_count": 27,
   "metadata": {
    "colab": {
     "base_uri": "https://localhost:8080/",
     "height": 70
    },
    "colab_type": "code",
    "id": "6g7uzFEzQFHP",
    "outputId": "b5005ce9-8157-46b7-873a-c714709799ab"
   },
   "outputs": [
    {
     "name": "stdout",
     "output_type": "stream",
     "text": [
      "index 189 is out of bounds for axis 0 with size 189\n",
      "index 189 is out of bounds for axis 0 with size 189\n",
      "index 189 is out of bounds for axis 0 with size 189\n"
     ]
    }
   ],
   "source": [
    "#normalized d_list\n",
    "d_list = [norm_test_weekly_prices, norm_test_weekly_volumes]\n",
    "windows = [6,8,12]\n",
    "norm_test_data_dict = get_data_chunks(d_list, windows)"
   ]
  },
  {
   "cell_type": "markdown",
   "metadata": {
    "colab_type": "text",
    "id": "vIqx-TG8UP38"
   },
   "source": [
    "### result"
   ]
  },
  {
   "cell_type": "code",
   "execution_count": 28,
   "metadata": {
    "colab": {},
    "colab_type": "code",
    "id": "JFj5Lfx6TavK"
   },
   "outputs": [],
   "source": [
    "X_test = norm_test_data_dict[w]['X']\n",
    "#Y_test = test_data_dict[w]['Y']\n",
    "not_norm_true_values = test_data_dict[w]['Y']"
   ]
  },
  {
   "cell_type": "code",
   "execution_count": 29,
   "metadata": {
    "colab": {
     "base_uri": "https://localhost:8080/",
     "height": 640
    },
    "colab_type": "code",
    "id": "iegGwGjcTfY5",
    "outputId": "ef24f76a-1734-47c1-c4a6-df69a1ccfbf5"
   },
   "outputs": [
    {
     "data": {
      "image/png": "[encoded data removed]",
      "text/plain": [
       "<Figure size 432x288 with 3 Axes>"
      ]
     },
     "metadata": {
      "needs_background": "light"
     },
     "output_type": "display_data"
    }
   ],
   "source": [
    "pred_y = model.predict(X_test)\n",
    "pred_yy = minmax_denorm(test_weekly_prices, pred_y, a=-1, b=1)\n",
    "plot_prediction(not_norm_true_values, pred_yy)"
   ]
  },
  {
   "cell_type": "code",
   "execution_count": null,
   "metadata": {
    "colab": {},
    "colab_type": "code",
    "id": "hPoagLXAfZmI"
   },
   "outputs": [],
   "source": []
  }
 ],
 "metadata": {
  "colab": {
   "collapsed_sections": [],
   "name": "weekly_crude_oil.ipynb",
   "provenance": [],
   "version": "0.3.2"
  },
  "kernelspec": {
   "display_name": "Python 3",
   "language": "python",
   "name": "python3"
  },
  "language_info": {
   "codemirror_mode": {
    "name": "ipython",
    "version": 3
   },
   "file_extension": ".py",
   "mimetype": "text/x-python",
   "name": "python",
   "nbconvert_exporter": "python",
   "pygments_lexer": "ipython3",
   "version": "3.6.5"
  }
 },
 "nbformat": 4,
 "nbformat_minor": 1
}
